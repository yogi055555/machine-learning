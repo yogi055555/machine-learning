{
  "nbformat": 4,
  "nbformat_minor": 0,
  "metadata": {
    "colab": {
      "provenance": [],
      "include_colab_link": true
    },
    "kernelspec": {
      "name": "python3",
      "display_name": "Python 3"
    },
    "language_info": {
      "name": "python"
    }
  },
  "cells": [
    {
      "cell_type": "markdown",
      "metadata": {
        "id": "view-in-github",
        "colab_type": "text"
      },
      "source": [
        "<a href=\"https://colab.research.google.com/github/yogi055555/machine-learning/blob/main/e8122033_TIME_SERIES.ipynb\" target=\"_parent\"><img src=\"https://colab.research.google.com/assets/colab-badge.svg\" alt=\"Open In Colab\"/></a>"
      ]
    },
    {
      "cell_type": "markdown",
      "source": [
        "AUTO ML:"
      ],
      "metadata": {
        "id": "Py_qQRNRxUjb"
      }
    },
    {
      "cell_type": "code",
      "execution_count": null,
      "metadata": {
        "colab": {
          "base_uri": "https://localhost:8080/"
        },
        "id": "H6YFVtstv3Kc",
        "outputId": "1d07207b-be8c-449f-d6c0-45c414dd25e7"
      },
      "outputs": [
        {
          "output_type": "stream",
          "name": "stdout",
          "text": [
            "                  Open        High         Low       Close   Adj Close  \\\n",
            "Date                                                                     \n",
            "2018-02-05  262.000000  267.899994  250.029999  254.259995  254.259995   \n",
            "2018-02-06  247.699997  266.700012  245.000000  265.720001  265.720001   \n",
            "2018-02-07  266.579987  272.450012  264.329987  264.559998  264.559998   \n",
            "2018-02-08  267.079987  267.619995  250.000000  250.100006  250.100006   \n",
            "2018-02-09  253.850006  255.800003  236.110001  249.470001  249.470001   \n",
            "\n",
            "              Volume  \n",
            "Date                  \n",
            "2018-02-05  11896100  \n",
            "2018-02-06  12595800  \n",
            "2018-02-07   8981500  \n",
            "2018-02-08   9306700  \n",
            "2018-02-09  16906900  \n"
          ]
        }
      ],
      "source": [
        "import pandas as pd\n",
        "url = 'https://raw.githubusercontent.com/sithukhant1/train-valid-test/main/data/netflix-stock-price-prediction.csv'\n",
        "d = pd.read_csv(url, index_col=0)\n",
        "print(d.head(5))"
      ]
    },
    {
      "cell_type": "code",
      "source": [
        "d.info()"
      ],
      "metadata": {
        "colab": {
          "base_uri": "https://localhost:8080/"
        },
        "id": "mkg8fq36v6h2",
        "outputId": "a30e254e-4fd5-446d-c6c8-fb3238bc1570"
      },
      "execution_count": null,
      "outputs": [
        {
          "output_type": "stream",
          "name": "stdout",
          "text": [
            "<class 'pandas.core.frame.DataFrame'>\n",
            "Index: 1009 entries, 2018-02-05 to 2022-02-04\n",
            "Data columns (total 6 columns):\n",
            " #   Column     Non-Null Count  Dtype  \n",
            "---  ------     --------------  -----  \n",
            " 0   Open       1009 non-null   float64\n",
            " 1   High       1009 non-null   float64\n",
            " 2   Low        1009 non-null   float64\n",
            " 3   Close      1009 non-null   float64\n",
            " 4   Adj Close  1009 non-null   float64\n",
            " 5   Volume     1009 non-null   int64  \n",
            "dtypes: float64(5), int64(1)\n",
            "memory usage: 55.2+ KB\n"
          ]
        }
      ]
    },
    {
      "cell_type": "code",
      "source": [
        "!pip install auto-sklearn"
      ],
      "metadata": {
        "colab": {
          "base_uri": "https://localhost:8080/"
        },
        "id": "KdrAgHQHv83g",
        "outputId": "c2574af7-2853-4b94-eaa1-0a9c7976d85d"
      },
      "execution_count": null,
      "outputs": [
        {
          "output_type": "stream",
          "name": "stdout",
          "text": [
            "Looking in indexes: https://pypi.org/simple, https://us-python.pkg.dev/colab-wheels/public/simple/\n",
            "Requirement already satisfied: auto-sklearn in /usr/local/lib/python3.9/dist-packages (0.15.0)\n",
            "Requirement already satisfied: typing-extensions in /usr/local/lib/python3.9/dist-packages (from auto-sklearn) (4.5.0)\n",
            "Requirement already satisfied: scikit-learn<0.25.0,>=0.24.0 in /usr/local/lib/python3.9/dist-packages (from auto-sklearn) (0.24.2)\n",
            "Requirement already satisfied: numpy>=1.9.0 in /usr/local/lib/python3.9/dist-packages (from auto-sklearn) (1.22.4)\n",
            "Requirement already satisfied: threadpoolctl in /usr/local/lib/python3.9/dist-packages (from auto-sklearn) (3.1.0)\n",
            "Requirement already satisfied: distributed>=2012.12 in /usr/local/lib/python3.9/dist-packages (from auto-sklearn) (2022.12.1)\n",
            "Requirement already satisfied: smac<1.3,>=1.2 in /usr/local/lib/python3.9/dist-packages (from auto-sklearn) (1.2)\n",
            "Requirement already satisfied: distro in /usr/local/lib/python3.9/dist-packages (from auto-sklearn) (1.8.0)\n",
            "Requirement already satisfied: setuptools in /usr/local/lib/python3.9/dist-packages (from auto-sklearn) (63.4.3)\n",
            "Requirement already satisfied: ConfigSpace<0.5,>=0.4.21 in /usr/local/lib/python3.9/dist-packages (from auto-sklearn) (0.4.21)\n",
            "Requirement already satisfied: pyrfr<0.9,>=0.8.1 in /usr/local/lib/python3.9/dist-packages (from auto-sklearn) (0.8.3)\n",
            "Requirement already satisfied: pandas>=1.0 in /usr/local/lib/python3.9/dist-packages (from auto-sklearn) (1.4.4)\n",
            "Requirement already satisfied: pynisher<0.7,>=0.6.3 in /usr/local/lib/python3.9/dist-packages (from auto-sklearn) (0.6.4)\n",
            "Requirement already satisfied: joblib in /usr/local/lib/python3.9/dist-packages (from auto-sklearn) (1.1.1)\n",
            "Requirement already satisfied: dask>=2021.12 in /usr/local/lib/python3.9/dist-packages (from auto-sklearn) (2022.12.1)\n",
            "Requirement already satisfied: scipy>=1.7.0 in /usr/local/lib/python3.9/dist-packages (from auto-sklearn) (1.10.1)\n",
            "Requirement already satisfied: pyyaml in /usr/local/lib/python3.9/dist-packages (from auto-sklearn) (6.0)\n",
            "Requirement already satisfied: liac-arff in /usr/local/lib/python3.9/dist-packages (from auto-sklearn) (2.5.0)\n",
            "Requirement already satisfied: pyparsing in /usr/local/lib/python3.9/dist-packages (from ConfigSpace<0.5,>=0.4.21->auto-sklearn) (3.0.9)\n",
            "Requirement already satisfied: cython in /usr/local/lib/python3.9/dist-packages (from ConfigSpace<0.5,>=0.4.21->auto-sklearn) (0.29.33)\n",
            "Requirement already satisfied: cloudpickle>=1.1.1 in /usr/local/lib/python3.9/dist-packages (from dask>=2021.12->auto-sklearn) (2.2.1)\n",
            "Requirement already satisfied: partd>=0.3.10 in /usr/local/lib/python3.9/dist-packages (from dask>=2021.12->auto-sklearn) (1.3.0)\n",
            "Requirement already satisfied: fsspec>=0.6.0 in /usr/local/lib/python3.9/dist-packages (from dask>=2021.12->auto-sklearn) (2023.3.0)\n",
            "Requirement already satisfied: packaging>=20.0 in /usr/local/lib/python3.9/dist-packages (from dask>=2021.12->auto-sklearn) (23.0)\n",
            "Requirement already satisfied: toolz>=0.8.2 in /usr/local/lib/python3.9/dist-packages (from dask>=2021.12->auto-sklearn) (0.12.0)\n",
            "Requirement already satisfied: click>=7.0 in /usr/local/lib/python3.9/dist-packages (from dask>=2021.12->auto-sklearn) (8.1.3)\n",
            "Requirement already satisfied: urllib3 in /usr/local/lib/python3.9/dist-packages (from distributed>=2012.12->auto-sklearn) (1.26.15)\n",
            "Requirement already satisfied: tornado>=6.0.3 in /usr/local/lib/python3.9/dist-packages (from distributed>=2012.12->auto-sklearn) (6.2)\n",
            "Requirement already satisfied: tblib>=1.6.0 in /usr/local/lib/python3.9/dist-packages (from distributed>=2012.12->auto-sklearn) (1.7.0)\n",
            "Requirement already satisfied: locket>=1.0.0 in /usr/local/lib/python3.9/dist-packages (from distributed>=2012.12->auto-sklearn) (1.0.0)\n",
            "Requirement already satisfied: msgpack>=0.6.0 in /usr/local/lib/python3.9/dist-packages (from distributed>=2012.12->auto-sklearn) (1.0.5)\n",
            "Requirement already satisfied: jinja2 in /usr/local/lib/python3.9/dist-packages (from distributed>=2012.12->auto-sklearn) (3.1.2)\n",
            "Requirement already satisfied: zict>=0.1.3 in /usr/local/lib/python3.9/dist-packages (from distributed>=2012.12->auto-sklearn) (2.2.0)\n",
            "Requirement already satisfied: psutil>=5.0 in /usr/local/lib/python3.9/dist-packages (from distributed>=2012.12->auto-sklearn) (5.9.4)\n",
            "Requirement already satisfied: sortedcontainers!=2.0.0,!=2.0.1 in /usr/local/lib/python3.9/dist-packages (from distributed>=2012.12->auto-sklearn) (2.4.0)\n",
            "Requirement already satisfied: pytz>=2020.1 in /usr/local/lib/python3.9/dist-packages (from pandas>=1.0->auto-sklearn) (2022.7.1)\n",
            "Requirement already satisfied: python-dateutil>=2.8.1 in /usr/local/lib/python3.9/dist-packages (from pandas>=1.0->auto-sklearn) (2.8.2)\n",
            "Requirement already satisfied: emcee>=3.0.0 in /usr/local/lib/python3.9/dist-packages (from smac<1.3,>=1.2->auto-sklearn) (3.1.4)\n",
            "Requirement already satisfied: six>=1.5 in /usr/local/lib/python3.9/dist-packages (from python-dateutil>=2.8.1->pandas>=1.0->auto-sklearn) (1.16.0)\n",
            "Requirement already satisfied: heapdict in /usr/local/lib/python3.9/dist-packages (from zict>=0.1.3->distributed>=2012.12->auto-sklearn) (1.0.1)\n",
            "Requirement already satisfied: MarkupSafe>=2.0 in /usr/local/lib/python3.9/dist-packages (from jinja2->distributed>=2012.12->auto-sklearn) (2.1.2)\n"
          ]
        }
      ]
    },
    {
      "cell_type": "code",
      "source": [
        "import numpy as np\n",
        "import autosklearn\n",
        "from autosklearn import regression\n",
        "automl=autosklearn.regression.AutoSklearnRegressor(time_left_for_this_task=5*60,per_run_time_limit=30)\n",
        "x=d.drop('Volume',axis=1)\n",
        "y=d['Volume']\n",
        "len(d)"
      ],
      "metadata": {
        "colab": {
          "base_uri": "https://localhost:8080/"
        },
        "id": "xxpDc41hv_M3",
        "outputId": "9539be2a-928a-4414-9675-2516379e23db"
      },
      "execution_count": null,
      "outputs": [
        {
          "output_type": "execute_result",
          "data": {
            "text/plain": [
              "1009"
            ]
          },
          "metadata": {},
          "execution_count": 22
        }
      ]
    },
    {
      "cell_type": "code",
      "source": [
        "x_train=x[:706]\n",
        "y_train=y[:706]\n",
        "x_test=x[706:857]\n",
        "y_test=y[706:857]\n",
        "x_valid=x[857:]\n",
        "y_valid=y[857:]\n",
        "automl.fit(x_train,y_train)"
      ],
      "metadata": {
        "colab": {
          "base_uri": "https://localhost:8080/"
        },
        "id": "5uy9dHnnwQyB",
        "outputId": "411763db-a1bf-43f9-8de8-b59e7c8d945c"
      },
      "execution_count": null,
      "outputs": [
        {
          "output_type": "execute_result",
          "data": {
            "text/plain": [
              "AutoSklearnRegressor(ensemble_class=<class 'autosklearn.ensembles.ensemble_selection.EnsembleSelection'>,\n",
              "                     per_run_time_limit=30, time_left_for_this_task=300)"
            ]
          },
          "metadata": {},
          "execution_count": 23
        }
      ]
    },
    {
      "cell_type": "code",
      "source": [
        "from sklearn.metrics import mean_absolute_error\n",
        "from sklearn.metrics import mean_squared_error\n",
        "y_pred=automl.predict(x_test)\n",
        "print(automl.sprint_statistics)"
      ],
      "metadata": {
        "colab": {
          "base_uri": "https://localhost:8080/"
        },
        "id": "wS1gu1uEw82F",
        "outputId": "222ed94f-781e-4d98-f101-674f2060ba64"
      },
      "execution_count": null,
      "outputs": [
        {
          "output_type": "stream",
          "name": "stdout",
          "text": [
            "<bound method AutoSklearnEstimator.sprint_statistics of AutoSklearnRegressor(ensemble_class=<class 'autosklearn.ensembles.ensemble_selection.EnsembleSelection'>,\n",
            "                     per_run_time_limit=30, time_left_for_this_task=300)>\n"
          ]
        }
      ]
    },
    {
      "cell_type": "code",
      "source": [
        "mean=mean_absolute_error(y_test,y_pred)\n",
        "print(mean)\n",
        "print(automl.leaderboard())"
      ],
      "metadata": {
        "colab": {
          "base_uri": "https://localhost:8080/"
        },
        "id": "lqjh7cdOxFlV",
        "outputId": "d2841983-39c8-4506-a03a-eef9b70c63b7"
      },
      "execution_count": null,
      "outputs": [
        {
          "output_type": "stream",
          "name": "stdout",
          "text": [
            "2033953.9498137417\n",
            "          rank  ensemble_weight              type      cost  duration\n",
            "model_id                                                             \n",
            "43           1             0.34    ard_regression  0.635127  1.656877\n",
            "17           2             0.06  gaussian_process  0.655498  4.751770\n",
            "19           3             0.26     random_forest  0.682576  2.322209\n",
            "53           4             0.30        libsvm_svr  0.688511  1.431909\n",
            "49           5             0.04        libsvm_svr  0.708958  0.885409\n"
          ]
        }
      ]
    },
    {
      "cell_type": "markdown",
      "source": [
        "REGRESSION MODELS- LASSO, RIDGE:"
      ],
      "metadata": {
        "id": "dlbC_8WRyG0E"
      }
    },
    {
      "cell_type": "code",
      "source": [
        "import pandas as pd\n",
        "import numpy as np\n",
        "url = 'https://raw.githubusercontent.com/sithukhant1/train-valid-test/main/data/netflix-stock-price-prediction.csv'\n",
        "d = pd.read_csv(url, index_col=0)\n",
        "print(d.head(5))"
      ],
      "metadata": {
        "colab": {
          "base_uri": "https://localhost:8080/"
        },
        "id": "lq0CnWCNyRTy",
        "outputId": "1ee037ad-198d-48b6-be95-33ce8b9a7f6c"
      },
      "execution_count": null,
      "outputs": [
        {
          "output_type": "stream",
          "name": "stdout",
          "text": [
            "                  Open        High         Low       Close   Adj Close  \\\n",
            "Date                                                                     \n",
            "2018-02-05  262.000000  267.899994  250.029999  254.259995  254.259995   \n",
            "2018-02-06  247.699997  266.700012  245.000000  265.720001  265.720001   \n",
            "2018-02-07  266.579987  272.450012  264.329987  264.559998  264.559998   \n",
            "2018-02-08  267.079987  267.619995  250.000000  250.100006  250.100006   \n",
            "2018-02-09  253.850006  255.800003  236.110001  249.470001  249.470001   \n",
            "\n",
            "              Volume  \n",
            "Date                  \n",
            "2018-02-05  11896100  \n",
            "2018-02-06  12595800  \n",
            "2018-02-07   8981500  \n",
            "2018-02-08   9306700  \n",
            "2018-02-09  16906900  \n"
          ]
        }
      ]
    },
    {
      "cell_type": "code",
      "source": [
        "x=d.drop('Volume',axis=1)\n",
        "y=d['Volume']\n",
        "x_train=x[:706]\n",
        "y_train=y[:706]\n",
        "x_test=x[706:857]\n",
        "y_test=y[706:857]\n",
        "x_valid=x[857:]\n",
        "y_valid=y[857:]\n",
        "d.info()"
      ],
      "metadata": {
        "colab": {
          "base_uri": "https://localhost:8080/"
        },
        "id": "pMjfDxCRyesx",
        "outputId": "0cb7f81e-49c3-49d3-af6b-12897d60a488"
      },
      "execution_count": null,
      "outputs": [
        {
          "output_type": "stream",
          "name": "stdout",
          "text": [
            "<class 'pandas.core.frame.DataFrame'>\n",
            "Index: 1009 entries, 2018-02-05 to 2022-02-04\n",
            "Data columns (total 6 columns):\n",
            " #   Column     Non-Null Count  Dtype  \n",
            "---  ------     --------------  -----  \n",
            " 0   Open       1009 non-null   float64\n",
            " 1   High       1009 non-null   float64\n",
            " 2   Low        1009 non-null   float64\n",
            " 3   Close      1009 non-null   float64\n",
            " 4   Adj Close  1009 non-null   float64\n",
            " 5   Volume     1009 non-null   int64  \n",
            "dtypes: float64(5), int64(1)\n",
            "memory usage: 55.2+ KB\n"
          ]
        }
      ]
    },
    {
      "cell_type": "code",
      "source": [
        "from sklearn.linear_model import LinearRegression\n",
        "reg = LinearRegression().fit(x_train, y_train)\n",
        "reg.score(x_train,y_train)"
      ],
      "metadata": {
        "colab": {
          "base_uri": "https://localhost:8080/"
        },
        "id": "pppljoM1ylIZ",
        "outputId": "03d1def9-d7b3-4145-b88b-be1c2d451fae"
      },
      "execution_count": null,
      "outputs": [
        {
          "output_type": "execute_result",
          "data": {
            "text/plain": [
              "0.3654669772739264"
            ]
          },
          "metadata": {},
          "execution_count": 28
        }
      ]
    },
    {
      "cell_type": "code",
      "source": [
        "reg.score(x_test,y_test)"
      ],
      "metadata": {
        "colab": {
          "base_uri": "https://localhost:8080/"
        },
        "id": "-0KDIX_EyrYU",
        "outputId": "760979df-cc39-43cb-c555-cba90d27c045"
      },
      "execution_count": null,
      "outputs": [
        {
          "output_type": "execute_result",
          "data": {
            "text/plain": [
              "0.030205578807624867"
            ]
          },
          "metadata": {},
          "execution_count": 29
        }
      ]
    },
    {
      "cell_type": "code",
      "source": [
        "reg.score(x_valid,y_valid)"
      ],
      "metadata": {
        "colab": {
          "base_uri": "https://localhost:8080/"
        },
        "id": "vahPsxzkyt1f",
        "outputId": "8ea85366-7f8c-4d9f-b6ce-58e13dbafb11"
      },
      "execution_count": null,
      "outputs": [
        {
          "output_type": "execute_result",
          "data": {
            "text/plain": [
              "0.46667952300710325"
            ]
          },
          "metadata": {},
          "execution_count": 30
        }
      ]
    },
    {
      "cell_type": "code",
      "source": [
        "from sklearn import linear_model\n",
        "lasso_reg = linear_model.Lasso(alpha=50, max_iter=100, tol=0.1)\n",
        "lasso_reg.fit(x_train,y_train)"
      ],
      "metadata": {
        "colab": {
          "base_uri": "https://localhost:8080/"
        },
        "id": "eqMs2BPbyvwK",
        "outputId": "f5e892b3-3f32-466c-bdc7-086362a22b56"
      },
      "execution_count": null,
      "outputs": [
        {
          "output_type": "stream",
          "name": "stderr",
          "text": [
            "/usr/local/lib/python3.9/dist-packages/sklearn/linear_model/_coordinate_descent.py:530: ConvergenceWarning: Objective did not converge. You might want to increase the number of iterations. Duality gap: 7001965805554380.0, tolerance: 1885958723654392.0\n",
            "  model = cd_fast.enet_coordinate_descent(\n"
          ]
        },
        {
          "output_type": "execute_result",
          "data": {
            "text/plain": [
              "Lasso(alpha=50, max_iter=100, tol=0.1)"
            ]
          },
          "metadata": {},
          "execution_count": 31
        }
      ]
    },
    {
      "cell_type": "code",
      "source": [
        "lasso_reg.score(x_train,y_train)"
      ],
      "metadata": {
        "colab": {
          "base_uri": "https://localhost:8080/"
        },
        "id": "FToZDe6oyyfQ",
        "outputId": "7eb0ee99-42c7-4954-b396-2b8313ba35eb"
      },
      "execution_count": null,
      "outputs": [
        {
          "output_type": "execute_result",
          "data": {
            "text/plain": [
              "0.25745402408141793"
            ]
          },
          "metadata": {},
          "execution_count": 32
        }
      ]
    },
    {
      "cell_type": "code",
      "source": [
        "lasso_reg.score(x_test,y_test)"
      ],
      "metadata": {
        "colab": {
          "base_uri": "https://localhost:8080/"
        },
        "id": "LE-vcbIXy2PG",
        "outputId": "fe84b0ee-ba8f-4377-a5b6-15280ef4bb85"
      },
      "execution_count": null,
      "outputs": [
        {
          "output_type": "execute_result",
          "data": {
            "text/plain": [
              "-0.04248607976458696"
            ]
          },
          "metadata": {},
          "execution_count": 33
        }
      ]
    },
    {
      "cell_type": "code",
      "source": [
        "lasso_reg.score(x_valid,y_valid)"
      ],
      "metadata": {
        "colab": {
          "base_uri": "https://localhost:8080/"
        },
        "id": "G_-7AU7Jy4DL",
        "outputId": "e1700c8c-9230-4e15-c6a4-190de6bdd4da"
      },
      "execution_count": null,
      "outputs": [
        {
          "output_type": "execute_result",
          "data": {
            "text/plain": [
              "0.3912591032846604"
            ]
          },
          "metadata": {},
          "execution_count": 34
        }
      ]
    },
    {
      "cell_type": "code",
      "source": [
        "from sklearn.linear_model import Ridge\n",
        "ridge_reg= Ridge(alpha=50, max_iter=100, tol=0.1)\n",
        "ridge_reg.fit(x_train,y_train)"
      ],
      "metadata": {
        "colab": {
          "base_uri": "https://localhost:8080/"
        },
        "id": "OSVxmI8vy6yp",
        "outputId": "96240d04-6b81-4446-f08d-eb79ea69144e"
      },
      "execution_count": null,
      "outputs": [
        {
          "output_type": "execute_result",
          "data": {
            "text/plain": [
              "Ridge(alpha=50, max_iter=100, tol=0.1)"
            ]
          },
          "metadata": {},
          "execution_count": 35
        }
      ]
    },
    {
      "cell_type": "code",
      "source": [
        "ridge_reg.score(x_train,y_train)"
      ],
      "metadata": {
        "colab": {
          "base_uri": "https://localhost:8080/"
        },
        "id": "vVsquv17y_Wn",
        "outputId": "d6aa03ad-466b-48a2-fcda-faae6912ffc4"
      },
      "execution_count": null,
      "outputs": [
        {
          "output_type": "execute_result",
          "data": {
            "text/plain": [
              "0.3654628383935762"
            ]
          },
          "metadata": {},
          "execution_count": 36
        }
      ]
    },
    {
      "cell_type": "code",
      "source": [
        "ridge_reg.score(x_test,y_test)"
      ],
      "metadata": {
        "colab": {
          "base_uri": "https://localhost:8080/"
        },
        "id": "suSFEH58zCUr",
        "outputId": "28ef3cee-adeb-4e3d-cdaf-659d808b7488"
      },
      "execution_count": null,
      "outputs": [
        {
          "output_type": "execute_result",
          "data": {
            "text/plain": [
              "0.03159874786283745"
            ]
          },
          "metadata": {},
          "execution_count": 37
        }
      ]
    },
    {
      "cell_type": "code",
      "source": [
        "ridge_reg.score(x_valid,y_valid)"
      ],
      "metadata": {
        "colab": {
          "base_uri": "https://localhost:8080/"
        },
        "id": "gVcZUktezE0h",
        "outputId": "d270034d-3f04-4b5e-d8f4-2c80ef46cbb2"
      },
      "execution_count": null,
      "outputs": [
        {
          "output_type": "execute_result",
          "data": {
            "text/plain": [
              "0.4667877249294884"
            ]
          },
          "metadata": {},
          "execution_count": 38
        }
      ]
    }
  ]
}