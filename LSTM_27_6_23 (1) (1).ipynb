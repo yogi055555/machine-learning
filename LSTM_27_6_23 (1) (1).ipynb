{
  "nbformat": 4,
  "nbformat_minor": 0,
  "metadata": {
    "colab": {
      "provenance": []
    },
    "kernelspec": {
      "name": "python3",
      "display_name": "Python 3"
    },
    "language_info": {
      "name": "python"
    }
  },
  "cells": [
    {
      "cell_type": "code",
      "execution_count": null,
      "metadata": {
        "id": "ZLzppcGzwyRP"
      },
      "outputs": [],
      "source": [
        "from keras.models import Sequential\n",
        "from keras.layers import Dense\n",
        "from keras.layers import LSTM\n",
        "from keras.layers import Dropout"
      ]
    },
    {
      "cell_type": "code",
      "source": [
        "import numpy as np\n",
        "import pandas as pd\n",
        "import matplotlib.pyplot as plt"
      ],
      "metadata": {
        "id": "ngBz-5E7QLE7"
      },
      "execution_count": null,
      "outputs": []
    },
    {
      "cell_type": "code",
      "source": [
        "dataset_train=pd.read_csv('/content/Google_Stock_Price_Train.csv')"
      ],
      "metadata": {
        "id": "GBOtuIwnQXXQ"
      },
      "execution_count": null,
      "outputs": []
    },
    {
      "cell_type": "code",
      "source": [
        "dataset_train"
      ],
      "metadata": {
        "colab": {
          "base_uri": "https://localhost:8080/",
          "height": 423
        },
        "id": "QeQZqQ2SQzNA",
        "outputId": "e2f4abb8-31ff-4d5e-d82f-6dab2f2fd49d"
      },
      "execution_count": null,
      "outputs": [
        {
          "output_type": "execute_result",
          "data": {
            "text/plain": [
              "            Date    Open    High     Low   Close      Volume\n",
              "0       1/3/2012  325.25  332.83  324.97  663.59   7,380,500\n",
              "1       1/4/2012  331.27  333.87  329.08  666.45   5,749,400\n",
              "2       1/5/2012  329.83  330.75  326.89  657.21   6,590,300\n",
              "3       1/6/2012  328.34  328.77  323.68  648.24   5,405,900\n",
              "4       1/9/2012  322.04  322.29  309.46  620.76  11,688,800\n",
              "...          ...     ...     ...     ...     ...         ...\n",
              "1253  12/23/2016  790.90  792.74  787.28  789.91     623,400\n",
              "1254  12/27/2016  790.68  797.86  787.66  791.55     789,100\n",
              "1255  12/28/2016  793.70  794.23  783.20  785.05   1,153,800\n",
              "1256  12/29/2016  783.33  785.93  778.92  782.79     744,300\n",
              "1257  12/30/2016  782.75  782.78  770.41  771.82   1,770,000\n",
              "\n",
              "[1258 rows x 6 columns]"
            ],
            "text/html": [
              "\n",
              "  <div id=\"df-dab14f8b-0a6b-4ead-a635-1dd61165dd4c\">\n",
              "    <div class=\"colab-df-container\">\n",
              "      <div>\n",
              "<style scoped>\n",
              "    .dataframe tbody tr th:only-of-type {\n",
              "        vertical-align: middle;\n",
              "    }\n",
              "\n",
              "    .dataframe tbody tr th {\n",
              "        vertical-align: top;\n",
              "    }\n",
              "\n",
              "    .dataframe thead th {\n",
              "        text-align: right;\n",
              "    }\n",
              "</style>\n",
              "<table border=\"1\" class=\"dataframe\">\n",
              "  <thead>\n",
              "    <tr style=\"text-align: right;\">\n",
              "      <th></th>\n",
              "      <th>Date</th>\n",
              "      <th>Open</th>\n",
              "      <th>High</th>\n",
              "      <th>Low</th>\n",
              "      <th>Close</th>\n",
              "      <th>Volume</th>\n",
              "    </tr>\n",
              "  </thead>\n",
              "  <tbody>\n",
              "    <tr>\n",
              "      <th>0</th>\n",
              "      <td>1/3/2012</td>\n",
              "      <td>325.25</td>\n",
              "      <td>332.83</td>\n",
              "      <td>324.97</td>\n",
              "      <td>663.59</td>\n",
              "      <td>7,380,500</td>\n",
              "    </tr>\n",
              "    <tr>\n",
              "      <th>1</th>\n",
              "      <td>1/4/2012</td>\n",
              "      <td>331.27</td>\n",
              "      <td>333.87</td>\n",
              "      <td>329.08</td>\n",
              "      <td>666.45</td>\n",
              "      <td>5,749,400</td>\n",
              "    </tr>\n",
              "    <tr>\n",
              "      <th>2</th>\n",
              "      <td>1/5/2012</td>\n",
              "      <td>329.83</td>\n",
              "      <td>330.75</td>\n",
              "      <td>326.89</td>\n",
              "      <td>657.21</td>\n",
              "      <td>6,590,300</td>\n",
              "    </tr>\n",
              "    <tr>\n",
              "      <th>3</th>\n",
              "      <td>1/6/2012</td>\n",
              "      <td>328.34</td>\n",
              "      <td>328.77</td>\n",
              "      <td>323.68</td>\n",
              "      <td>648.24</td>\n",
              "      <td>5,405,900</td>\n",
              "    </tr>\n",
              "    <tr>\n",
              "      <th>4</th>\n",
              "      <td>1/9/2012</td>\n",
              "      <td>322.04</td>\n",
              "      <td>322.29</td>\n",
              "      <td>309.46</td>\n",
              "      <td>620.76</td>\n",
              "      <td>11,688,800</td>\n",
              "    </tr>\n",
              "    <tr>\n",
              "      <th>...</th>\n",
              "      <td>...</td>\n",
              "      <td>...</td>\n",
              "      <td>...</td>\n",
              "      <td>...</td>\n",
              "      <td>...</td>\n",
              "      <td>...</td>\n",
              "    </tr>\n",
              "    <tr>\n",
              "      <th>1253</th>\n",
              "      <td>12/23/2016</td>\n",
              "      <td>790.90</td>\n",
              "      <td>792.74</td>\n",
              "      <td>787.28</td>\n",
              "      <td>789.91</td>\n",
              "      <td>623,400</td>\n",
              "    </tr>\n",
              "    <tr>\n",
              "      <th>1254</th>\n",
              "      <td>12/27/2016</td>\n",
              "      <td>790.68</td>\n",
              "      <td>797.86</td>\n",
              "      <td>787.66</td>\n",
              "      <td>791.55</td>\n",
              "      <td>789,100</td>\n",
              "    </tr>\n",
              "    <tr>\n",
              "      <th>1255</th>\n",
              "      <td>12/28/2016</td>\n",
              "      <td>793.70</td>\n",
              "      <td>794.23</td>\n",
              "      <td>783.20</td>\n",
              "      <td>785.05</td>\n",
              "      <td>1,153,800</td>\n",
              "    </tr>\n",
              "    <tr>\n",
              "      <th>1256</th>\n",
              "      <td>12/29/2016</td>\n",
              "      <td>783.33</td>\n",
              "      <td>785.93</td>\n",
              "      <td>778.92</td>\n",
              "      <td>782.79</td>\n",
              "      <td>744,300</td>\n",
              "    </tr>\n",
              "    <tr>\n",
              "      <th>1257</th>\n",
              "      <td>12/30/2016</td>\n",
              "      <td>782.75</td>\n",
              "      <td>782.78</td>\n",
              "      <td>770.41</td>\n",
              "      <td>771.82</td>\n",
              "      <td>1,770,000</td>\n",
              "    </tr>\n",
              "  </tbody>\n",
              "</table>\n",
              "<p>1258 rows × 6 columns</p>\n",
              "</div>\n",
              "      <button class=\"colab-df-convert\" onclick=\"convertToInteractive('df-dab14f8b-0a6b-4ead-a635-1dd61165dd4c')\"\n",
              "              title=\"Convert this dataframe to an interactive table.\"\n",
              "              style=\"display:none;\">\n",
              "        \n",
              "  <svg xmlns=\"http://www.w3.org/2000/svg\" height=\"24px\"viewBox=\"0 0 24 24\"\n",
              "       width=\"24px\">\n",
              "    <path d=\"M0 0h24v24H0V0z\" fill=\"none\"/>\n",
              "    <path d=\"M18.56 5.44l.94 2.06.94-2.06 2.06-.94-2.06-.94-.94-2.06-.94 2.06-2.06.94zm-11 1L8.5 8.5l.94-2.06 2.06-.94-2.06-.94L8.5 2.5l-.94 2.06-2.06.94zm10 10l.94 2.06.94-2.06 2.06-.94-2.06-.94-.94-2.06-.94 2.06-2.06.94z\"/><path d=\"M17.41 7.96l-1.37-1.37c-.4-.4-.92-.59-1.43-.59-.52 0-1.04.2-1.43.59L10.3 9.45l-7.72 7.72c-.78.78-.78 2.05 0 2.83L4 21.41c.39.39.9.59 1.41.59.51 0 1.02-.2 1.41-.59l7.78-7.78 2.81-2.81c.8-.78.8-2.07 0-2.86zM5.41 20L4 18.59l7.72-7.72 1.47 1.35L5.41 20z\"/>\n",
              "  </svg>\n",
              "      </button>\n",
              "      \n",
              "  <style>\n",
              "    .colab-df-container {\n",
              "      display:flex;\n",
              "      flex-wrap:wrap;\n",
              "      gap: 12px;\n",
              "    }\n",
              "\n",
              "    .colab-df-convert {\n",
              "      background-color: #E8F0FE;\n",
              "      border: none;\n",
              "      border-radius: 50%;\n",
              "      cursor: pointer;\n",
              "      display: none;\n",
              "      fill: #1967D2;\n",
              "      height: 32px;\n",
              "      padding: 0 0 0 0;\n",
              "      width: 32px;\n",
              "    }\n",
              "\n",
              "    .colab-df-convert:hover {\n",
              "      background-color: #E2EBFA;\n",
              "      box-shadow: 0px 1px 2px rgba(60, 64, 67, 0.3), 0px 1px 3px 1px rgba(60, 64, 67, 0.15);\n",
              "      fill: #174EA6;\n",
              "    }\n",
              "\n",
              "    [theme=dark] .colab-df-convert {\n",
              "      background-color: #3B4455;\n",
              "      fill: #D2E3FC;\n",
              "    }\n",
              "\n",
              "    [theme=dark] .colab-df-convert:hover {\n",
              "      background-color: #434B5C;\n",
              "      box-shadow: 0px 1px 3px 1px rgba(0, 0, 0, 0.15);\n",
              "      filter: drop-shadow(0px 1px 2px rgba(0, 0, 0, 0.3));\n",
              "      fill: #FFFFFF;\n",
              "    }\n",
              "  </style>\n",
              "\n",
              "      <script>\n",
              "        const buttonEl =\n",
              "          document.querySelector('#df-dab14f8b-0a6b-4ead-a635-1dd61165dd4c button.colab-df-convert');\n",
              "        buttonEl.style.display =\n",
              "          google.colab.kernel.accessAllowed ? 'block' : 'none';\n",
              "\n",
              "        async function convertToInteractive(key) {\n",
              "          const element = document.querySelector('#df-dab14f8b-0a6b-4ead-a635-1dd61165dd4c');\n",
              "          const dataTable =\n",
              "            await google.colab.kernel.invokeFunction('convertToInteractive',\n",
              "                                                     [key], {});\n",
              "          if (!dataTable) return;\n",
              "\n",
              "          const docLinkHtml = 'Like what you see? Visit the ' +\n",
              "            '<a target=\"_blank\" href=https://colab.research.google.com/notebooks/data_table.ipynb>data table notebook</a>'\n",
              "            + ' to learn more about interactive tables.';\n",
              "          element.innerHTML = '';\n",
              "          dataTable['output_type'] = 'display_data';\n",
              "          await google.colab.output.renderOutput(dataTable, element);\n",
              "          const docLink = document.createElement('div');\n",
              "          docLink.innerHTML = docLinkHtml;\n",
              "          element.appendChild(docLink);\n",
              "        }\n",
              "      </script>\n",
              "    </div>\n",
              "  </div>\n",
              "  "
            ]
          },
          "metadata": {},
          "execution_count": 4
        }
      ]
    },
    {
      "cell_type": "code",
      "source": [
        "training_set = dataset_train.iloc[:, 1:3].values #displaying the col 'open', col 'high' using the slice operator. iloc[:,]-denoted all rows, iloc[:,1:3] where 1:3- 2nd and 3rd cols; \".values\" - to print the data into an array instead of dataframe"
      ],
      "metadata": {
        "id": "8bLI8MWUQ1J4"
      },
      "execution_count": null,
      "outputs": []
    },
    {
      "cell_type": "code",
      "source": [
        "training_set"
      ],
      "metadata": {
        "colab": {
          "base_uri": "https://localhost:8080/"
        },
        "id": "AvBopOyQQ3a_",
        "outputId": "eefe8f4a-7145-42f7-e508-9e31d833fd62"
      },
      "execution_count": null,
      "outputs": [
        {
          "output_type": "execute_result",
          "data": {
            "text/plain": [
              "array([[325.25, 332.83],\n",
              "       [331.27, 333.87],\n",
              "       [329.83, 330.75],\n",
              "       ...,\n",
              "       [793.7 , 794.23],\n",
              "       [783.33, 785.93],\n",
              "       [782.75, 782.78]])"
            ]
          },
          "metadata": {},
          "execution_count": 6
        }
      ]
    },
    {
      "cell_type": "code",
      "source": [
        "training_set = dataset_train.iloc[:, 1:2].values #taking one coluns, based on it we are gonna predict"
      ],
      "metadata": {
        "id": "SccBXyP5Q6cF"
      },
      "execution_count": null,
      "outputs": []
    },
    {
      "cell_type": "code",
      "source": [
        "training_set"
      ],
      "metadata": {
        "colab": {
          "base_uri": "https://localhost:8080/"
        },
        "id": "C5DozUY9Q89C",
        "outputId": "c3461348-255c-4ad6-98c3-aaf50e50c344"
      },
      "execution_count": null,
      "outputs": [
        {
          "output_type": "execute_result",
          "data": {
            "text/plain": [
              "array([[325.25],\n",
              "       [331.27],\n",
              "       [329.83],\n",
              "       ...,\n",
              "       [793.7 ],\n",
              "       [783.33],\n",
              "       [782.75]])"
            ]
          },
          "metadata": {},
          "execution_count": 8
        }
      ]
    },
    {
      "cell_type": "code",
      "source": [
        "#feature scaling\n",
        "from sklearn.preprocessing import MinMaxScaler\n",
        "sc = MinMaxScaler()\n",
        "training_set_scaled = sc.fit_transform(training_set)"
      ],
      "metadata": {
        "id": "VRN7VPDERAP7"
      },
      "execution_count": null,
      "outputs": []
    },
    {
      "cell_type": "code",
      "source": [
        "x_train=[]\n",
        "y_train=[]"
      ],
      "metadata": {
        "id": "UWWEUEG4RC2z"
      },
      "execution_count": null,
      "outputs": []
    },
    {
      "cell_type": "code",
      "source": [
        "#assiging x_train & y_train\n",
        "for i in range(60,1258): #1258 = total no of rows\n",
        "  x_train.append(training_set_scaled[i-60:i,0]) #i=60; i-60== 60-60 i.e., 0 to 60 'i-60:i' == 0th row to 60th row; '0' == 1st col. #1st 60 data is given into x_train\n",
        "  y_train.append(training_set_scaled[i,0])\n",
        "x_train,y_train=np.array(x_train),np.array(y_train)"
      ],
      "metadata": {
        "id": "nbgijeVPRFxp"
      },
      "execution_count": null,
      "outputs": []
    },
    {
      "cell_type": "code",
      "source": [
        "#reshaping = addition of dimension to the numpy array\n",
        "x_train = np.reshape(x_train,(x_train.shape[0],x_train.shape[1],1))"
      ],
      "metadata": {
        "id": "hZSdT7I2RLH7"
      },
      "execution_count": null,
      "outputs": []
    },
    {
      "cell_type": "code",
      "source": [
        "regressor=Sequential()"
      ],
      "metadata": {
        "id": "7BjV5iefROP_"
      },
      "execution_count": null,
      "outputs": []
    },
    {
      "cell_type": "code",
      "source": [
        "from keras.layers import Dense, LSTM"
      ],
      "metadata": {
        "id": "ZC14MIm1RS3j"
      },
      "execution_count": null,
      "outputs": []
    },
    {
      "cell_type": "code",
      "source": [
        "regressor.add(LSTM(units = 50, return_sequences = True, input_shape = (x_train.shape[1],1)))"
      ],
      "metadata": {
        "id": "ekYbpklERXfZ"
      },
      "execution_count": null,
      "outputs": []
    },
    {
      "cell_type": "code",
      "source": [
        "regressor.add(Dropout(0.2))"
      ],
      "metadata": {
        "id": "GNrkJRurRey6"
      },
      "execution_count": null,
      "outputs": []
    },
    {
      "cell_type": "code",
      "source": [
        "from keras.optimizers import RMSprop\n",
        "from keras.callbacks import Callback"
      ],
      "metadata": {
        "id": "VgLMX4ZbRhdb"
      },
      "execution_count": null,
      "outputs": []
    },
    {
      "cell_type": "code",
      "source": [
        "regressor.add(LSTM(units=50, return_sequences = False, input_shape=(x_train.shape[1],1)))\n",
        "regressor.add(Dense(32,activation='relu'))\n",
        "regressor.add(Dense(1))"
      ],
      "metadata": {
        "id": "LfCprtVARkRW"
      },
      "execution_count": null,
      "outputs": []
    },
    {
      "cell_type": "code",
      "source": [
        "regressor.compile(loss='mean_squared_error',optimizer=RMSprop(),metrics=['mse'])"
      ],
      "metadata": {
        "id": "N7PBE1uzRr3I"
      },
      "execution_count": null,
      "outputs": []
    },
    {
      "cell_type": "code",
      "source": [
        "regressor.fit(x_train,y_train,epochs=20,batch_size=32)"
      ],
      "metadata": {
        "colab": {
          "base_uri": "https://localhost:8080/"
        },
        "id": "_7pFH1XkRvIu",
        "outputId": "681a59a9-94ae-46e4-ad81-a7daf9cebe3d"
      },
      "execution_count": null,
      "outputs": [
        {
          "output_type": "stream",
          "name": "stdout",
          "text": [
            "Epoch 1/20\n",
            "38/38 [==============================] - 9s 60ms/step - loss: 0.0211 - mse: 0.0211\n",
            "Epoch 2/20\n",
            "38/38 [==============================] - 2s 54ms/step - loss: 0.0051 - mse: 0.0051\n",
            "Epoch 3/20\n",
            "38/38 [==============================] - 2s 56ms/step - loss: 0.0040 - mse: 0.0040\n",
            "Epoch 4/20\n",
            "38/38 [==============================] - 2s 54ms/step - loss: 0.0036 - mse: 0.0036\n",
            "Epoch 5/20\n",
            "38/38 [==============================] - 2s 55ms/step - loss: 0.0034 - mse: 0.0034\n",
            "Epoch 6/20\n",
            "38/38 [==============================] - 3s 84ms/step - loss: 0.0032 - mse: 0.0032\n",
            "Epoch 7/20\n",
            "38/38 [==============================] - 2s 54ms/step - loss: 0.0030 - mse: 0.0030\n",
            "Epoch 8/20\n",
            "38/38 [==============================] - 2s 55ms/step - loss: 0.0026 - mse: 0.0026\n",
            "Epoch 9/20\n",
            "38/38 [==============================] - 2s 54ms/step - loss: 0.0023 - mse: 0.0023\n",
            "Epoch 10/20\n",
            "38/38 [==============================] - 2s 54ms/step - loss: 0.0027 - mse: 0.0027\n",
            "Epoch 11/20\n",
            "38/38 [==============================] - 3s 70ms/step - loss: 0.0020 - mse: 0.0020\n",
            "Epoch 12/20\n",
            "38/38 [==============================] - 3s 70ms/step - loss: 0.0021 - mse: 0.0021\n",
            "Epoch 13/20\n",
            "38/38 [==============================] - 2s 55ms/step - loss: 0.0021 - mse: 0.0021\n",
            "Epoch 14/20\n",
            "38/38 [==============================] - 2s 54ms/step - loss: 0.0020 - mse: 0.0020\n",
            "Epoch 15/20\n",
            "38/38 [==============================] - 2s 54ms/step - loss: 0.0019 - mse: 0.0019\n",
            "Epoch 16/20\n",
            "38/38 [==============================] - 2s 54ms/step - loss: 0.0015 - mse: 0.0015\n",
            "Epoch 17/20\n",
            "38/38 [==============================] - 3s 85ms/step - loss: 0.0018 - mse: 0.0018\n",
            "Epoch 18/20\n",
            "38/38 [==============================] - 2s 55ms/step - loss: 0.0018 - mse: 0.0018\n",
            "Epoch 19/20\n",
            "38/38 [==============================] - 2s 55ms/step - loss: 0.0016 - mse: 0.0016\n",
            "Epoch 20/20\n",
            "38/38 [==============================] - 2s 54ms/step - loss: 0.0014 - mse: 0.0014\n"
          ]
        },
        {
          "output_type": "execute_result",
          "data": {
            "text/plain": [
              "<keras.callbacks.History at 0x7f7a879f43d0>"
            ]
          },
          "metadata": {},
          "execution_count": 20
        }
      ]
    },
    {
      "cell_type": "code",
      "source": [
        "#predictions\n",
        "dataset_test=pd.read_csv('/content/Google_Stock_Price_Train.csv')"
      ],
      "metadata": {
        "id": "UiAWIdujRxjN"
      },
      "execution_count": null,
      "outputs": []
    },
    {
      "cell_type": "code",
      "source": [
        "dataset_test"
      ],
      "metadata": {
        "colab": {
          "base_uri": "https://localhost:8080/",
          "height": 423
        },
        "id": "FOZryy2PSKza",
        "outputId": "3f4e6a69-40d5-45a7-f58f-ae48e6cdc001"
      },
      "execution_count": null,
      "outputs": [
        {
          "output_type": "execute_result",
          "data": {
            "text/plain": [
              "            Date    Open    High     Low   Close      Volume\n",
              "0       1/3/2012  325.25  332.83  324.97  663.59   7,380,500\n",
              "1       1/4/2012  331.27  333.87  329.08  666.45   5,749,400\n",
              "2       1/5/2012  329.83  330.75  326.89  657.21   6,590,300\n",
              "3       1/6/2012  328.34  328.77  323.68  648.24   5,405,900\n",
              "4       1/9/2012  322.04  322.29  309.46  620.76  11,688,800\n",
              "...          ...     ...     ...     ...     ...         ...\n",
              "1253  12/23/2016  790.90  792.74  787.28  789.91     623,400\n",
              "1254  12/27/2016  790.68  797.86  787.66  791.55     789,100\n",
              "1255  12/28/2016  793.70  794.23  783.20  785.05   1,153,800\n",
              "1256  12/29/2016  783.33  785.93  778.92  782.79     744,300\n",
              "1257  12/30/2016  782.75  782.78  770.41  771.82   1,770,000\n",
              "\n",
              "[1258 rows x 6 columns]"
            ],
            "text/html": [
              "\n",
              "  <div id=\"df-6810fe33-02ad-4c2b-aea5-2103709579c0\">\n",
              "    <div class=\"colab-df-container\">\n",
              "      <div>\n",
              "<style scoped>\n",
              "    .dataframe tbody tr th:only-of-type {\n",
              "        vertical-align: middle;\n",
              "    }\n",
              "\n",
              "    .dataframe tbody tr th {\n",
              "        vertical-align: top;\n",
              "    }\n",
              "\n",
              "    .dataframe thead th {\n",
              "        text-align: right;\n",
              "    }\n",
              "</style>\n",
              "<table border=\"1\" class=\"dataframe\">\n",
              "  <thead>\n",
              "    <tr style=\"text-align: right;\">\n",
              "      <th></th>\n",
              "      <th>Date</th>\n",
              "      <th>Open</th>\n",
              "      <th>High</th>\n",
              "      <th>Low</th>\n",
              "      <th>Close</th>\n",
              "      <th>Volume</th>\n",
              "    </tr>\n",
              "  </thead>\n",
              "  <tbody>\n",
              "    <tr>\n",
              "      <th>0</th>\n",
              "      <td>1/3/2012</td>\n",
              "      <td>325.25</td>\n",
              "      <td>332.83</td>\n",
              "      <td>324.97</td>\n",
              "      <td>663.59</td>\n",
              "      <td>7,380,500</td>\n",
              "    </tr>\n",
              "    <tr>\n",
              "      <th>1</th>\n",
              "      <td>1/4/2012</td>\n",
              "      <td>331.27</td>\n",
              "      <td>333.87</td>\n",
              "      <td>329.08</td>\n",
              "      <td>666.45</td>\n",
              "      <td>5,749,400</td>\n",
              "    </tr>\n",
              "    <tr>\n",
              "      <th>2</th>\n",
              "      <td>1/5/2012</td>\n",
              "      <td>329.83</td>\n",
              "      <td>330.75</td>\n",
              "      <td>326.89</td>\n",
              "      <td>657.21</td>\n",
              "      <td>6,590,300</td>\n",
              "    </tr>\n",
              "    <tr>\n",
              "      <th>3</th>\n",
              "      <td>1/6/2012</td>\n",
              "      <td>328.34</td>\n",
              "      <td>328.77</td>\n",
              "      <td>323.68</td>\n",
              "      <td>648.24</td>\n",
              "      <td>5,405,900</td>\n",
              "    </tr>\n",
              "    <tr>\n",
              "      <th>4</th>\n",
              "      <td>1/9/2012</td>\n",
              "      <td>322.04</td>\n",
              "      <td>322.29</td>\n",
              "      <td>309.46</td>\n",
              "      <td>620.76</td>\n",
              "      <td>11,688,800</td>\n",
              "    </tr>\n",
              "    <tr>\n",
              "      <th>...</th>\n",
              "      <td>...</td>\n",
              "      <td>...</td>\n",
              "      <td>...</td>\n",
              "      <td>...</td>\n",
              "      <td>...</td>\n",
              "      <td>...</td>\n",
              "    </tr>\n",
              "    <tr>\n",
              "      <th>1253</th>\n",
              "      <td>12/23/2016</td>\n",
              "      <td>790.90</td>\n",
              "      <td>792.74</td>\n",
              "      <td>787.28</td>\n",
              "      <td>789.91</td>\n",
              "      <td>623,400</td>\n",
              "    </tr>\n",
              "    <tr>\n",
              "      <th>1254</th>\n",
              "      <td>12/27/2016</td>\n",
              "      <td>790.68</td>\n",
              "      <td>797.86</td>\n",
              "      <td>787.66</td>\n",
              "      <td>791.55</td>\n",
              "      <td>789,100</td>\n",
              "    </tr>\n",
              "    <tr>\n",
              "      <th>1255</th>\n",
              "      <td>12/28/2016</td>\n",
              "      <td>793.70</td>\n",
              "      <td>794.23</td>\n",
              "      <td>783.20</td>\n",
              "      <td>785.05</td>\n",
              "      <td>1,153,800</td>\n",
              "    </tr>\n",
              "    <tr>\n",
              "      <th>1256</th>\n",
              "      <td>12/29/2016</td>\n",
              "      <td>783.33</td>\n",
              "      <td>785.93</td>\n",
              "      <td>778.92</td>\n",
              "      <td>782.79</td>\n",
              "      <td>744,300</td>\n",
              "    </tr>\n",
              "    <tr>\n",
              "      <th>1257</th>\n",
              "      <td>12/30/2016</td>\n",
              "      <td>782.75</td>\n",
              "      <td>782.78</td>\n",
              "      <td>770.41</td>\n",
              "      <td>771.82</td>\n",
              "      <td>1,770,000</td>\n",
              "    </tr>\n",
              "  </tbody>\n",
              "</table>\n",
              "<p>1258 rows × 6 columns</p>\n",
              "</div>\n",
              "      <button class=\"colab-df-convert\" onclick=\"convertToInteractive('df-6810fe33-02ad-4c2b-aea5-2103709579c0')\"\n",
              "              title=\"Convert this dataframe to an interactive table.\"\n",
              "              style=\"display:none;\">\n",
              "        \n",
              "  <svg xmlns=\"http://www.w3.org/2000/svg\" height=\"24px\"viewBox=\"0 0 24 24\"\n",
              "       width=\"24px\">\n",
              "    <path d=\"M0 0h24v24H0V0z\" fill=\"none\"/>\n",
              "    <path d=\"M18.56 5.44l.94 2.06.94-2.06 2.06-.94-2.06-.94-.94-2.06-.94 2.06-2.06.94zm-11 1L8.5 8.5l.94-2.06 2.06-.94-2.06-.94L8.5 2.5l-.94 2.06-2.06.94zm10 10l.94 2.06.94-2.06 2.06-.94-2.06-.94-.94-2.06-.94 2.06-2.06.94z\"/><path d=\"M17.41 7.96l-1.37-1.37c-.4-.4-.92-.59-1.43-.59-.52 0-1.04.2-1.43.59L10.3 9.45l-7.72 7.72c-.78.78-.78 2.05 0 2.83L4 21.41c.39.39.9.59 1.41.59.51 0 1.02-.2 1.41-.59l7.78-7.78 2.81-2.81c.8-.78.8-2.07 0-2.86zM5.41 20L4 18.59l7.72-7.72 1.47 1.35L5.41 20z\"/>\n",
              "  </svg>\n",
              "      </button>\n",
              "      \n",
              "  <style>\n",
              "    .colab-df-container {\n",
              "      display:flex;\n",
              "      flex-wrap:wrap;\n",
              "      gap: 12px;\n",
              "    }\n",
              "\n",
              "    .colab-df-convert {\n",
              "      background-color: #E8F0FE;\n",
              "      border: none;\n",
              "      border-radius: 50%;\n",
              "      cursor: pointer;\n",
              "      display: none;\n",
              "      fill: #1967D2;\n",
              "      height: 32px;\n",
              "      padding: 0 0 0 0;\n",
              "      width: 32px;\n",
              "    }\n",
              "\n",
              "    .colab-df-convert:hover {\n",
              "      background-color: #E2EBFA;\n",
              "      box-shadow: 0px 1px 2px rgba(60, 64, 67, 0.3), 0px 1px 3px 1px rgba(60, 64, 67, 0.15);\n",
              "      fill: #174EA6;\n",
              "    }\n",
              "\n",
              "    [theme=dark] .colab-df-convert {\n",
              "      background-color: #3B4455;\n",
              "      fill: #D2E3FC;\n",
              "    }\n",
              "\n",
              "    [theme=dark] .colab-df-convert:hover {\n",
              "      background-color: #434B5C;\n",
              "      box-shadow: 0px 1px 3px 1px rgba(0, 0, 0, 0.15);\n",
              "      filter: drop-shadow(0px 1px 2px rgba(0, 0, 0, 0.3));\n",
              "      fill: #FFFFFF;\n",
              "    }\n",
              "  </style>\n",
              "\n",
              "      <script>\n",
              "        const buttonEl =\n",
              "          document.querySelector('#df-6810fe33-02ad-4c2b-aea5-2103709579c0 button.colab-df-convert');\n",
              "        buttonEl.style.display =\n",
              "          google.colab.kernel.accessAllowed ? 'block' : 'none';\n",
              "\n",
              "        async function convertToInteractive(key) {\n",
              "          const element = document.querySelector('#df-6810fe33-02ad-4c2b-aea5-2103709579c0');\n",
              "          const dataTable =\n",
              "            await google.colab.kernel.invokeFunction('convertToInteractive',\n",
              "                                                     [key], {});\n",
              "          if (!dataTable) return;\n",
              "\n",
              "          const docLinkHtml = 'Like what you see? Visit the ' +\n",
              "            '<a target=\"_blank\" href=https://colab.research.google.com/notebooks/data_table.ipynb>data table notebook</a>'\n",
              "            + ' to learn more about interactive tables.';\n",
              "          element.innerHTML = '';\n",
              "          dataTable['output_type'] = 'display_data';\n",
              "          await google.colab.output.renderOutput(dataTable, element);\n",
              "          const docLink = document.createElement('div');\n",
              "          docLink.innerHTML = docLinkHtml;\n",
              "          element.appendChild(docLink);\n",
              "        }\n",
              "      </script>\n",
              "    </div>\n",
              "  </div>\n",
              "  "
            ]
          },
          "metadata": {},
          "execution_count": 22
        }
      ]
    },
    {
      "cell_type": "code",
      "source": [
        "real_stock_price=dataset_test.iloc[:,1:2].values"
      ],
      "metadata": {
        "id": "UTdql6O6SNZT"
      },
      "execution_count": null,
      "outputs": []
    },
    {
      "cell_type": "code",
      "source": [
        "#prediction of stock price - 2018\n",
        "dataset_total=pd.concat((dataset_train['Open'],dataset_test['Open']),axis=0)"
      ],
      "metadata": {
        "id": "D72gzSjrSQbM"
      },
      "execution_count": null,
      "outputs": []
    },
    {
      "cell_type": "code",
      "source": [
        "inputs=dataset_total[len(dataset_total)-len(dataset_test)-60:].values\n",
        "inputs=inputs.reshape(-1,1)\n",
        "inputs=sc.transform(inputs)\n",
        "x_test=[]\n",
        "for i in range(60,227):\n",
        "    x_test.append(inputs[i-60:i,0])\n",
        "x_test=np.array(x_test)\n",
        "x_test= np.reshape(x_test,(x_test.shape[0],x_test.shape[1],1))\n",
        "predicted_stock_price = regressor.predict(x_test)\n",
        "predicted_stock_price = sc.inverse_transform(predicted_stock_price)"
      ],
      "metadata": {
        "colab": {
          "base_uri": "https://localhost:8080/"
        },
        "id": "YoW7I_x3STNW",
        "outputId": "0006f372-5cdc-4e03-aa9c-7c07a4470b8b"
      },
      "execution_count": null,
      "outputs": [
        {
          "output_type": "stream",
          "name": "stdout",
          "text": [
            "6/6 [==============================] - 1s 23ms/step\n"
          ]
        }
      ]
    },
    {
      "cell_type": "code",
      "source": [
        "#visualisation\n",
        "plt.plot(real_stock_price, color = 'red', label='Real google stock price')\n",
        "plt.plot(predicted_stock_price, color = 'blue', label = 'predicted stock price')\n",
        "plt.title('Google stock price prediction')\n",
        "plt.xlabel('time')\n",
        "plt.ylabel('googlr stock price')\n",
        "plt.legend()\n",
        "plt.show()"
      ],
      "metadata": {
        "colab": {
          "base_uri": "https://localhost:8080/",
          "height": 472
        },
        "id": "UgtDY1NfSWNX",
        "outputId": "3df3b6be-f6a6-406d-d64d-7e0abd51ae37"
      },
      "execution_count": null,
      "outputs": [
        {
          "output_type": "display_data",
          "data": {
            "text/plain": [
              "<Figure size 640x480 with 1 Axes>"
            ],
            "image/png": "[encoded data removed]"
          },
          "metadata": {}
        }
      ]
    },
    {
      "cell_type": "code",
      "source": [],
      "metadata": {
        "id": "7CGZMKmMSaJc"
      },
      "execution_count": null,
      "outputs": []
    }
  ]
}