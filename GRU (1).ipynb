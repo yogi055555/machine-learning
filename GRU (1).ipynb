{
  "nbformat": 4,
  "nbformat_minor": 0,
  "metadata": {
    "colab": {
      "provenance": []
    },
    "kernelspec": {
      "name": "python3",
      "display_name": "Python 3"
    },
    "language_info": {
      "name": "python"
    }
  },
  "cells": [
    {
      "cell_type": "code",
      "execution_count": null,
      "metadata": {
        "id": "jh0SPwkQTSWE"
      },
      "outputs": [],
      "source": [
        "from keras.models import Sequential\n",
        "from keras.layers import Dense\n",
        "from keras.layers import LSTM\n",
        "from keras.layers import Dropout\n",
        "import numpy as np\n",
        "import pandas as pd\n",
        "import matplotlib.pyplot as plt"
      ]
    },
    {
      "cell_type": "code",
      "source": [
        "dataset_train=pd.read_csv('/content/Google_Stock_Price_Train.csv')"
      ],
      "metadata": {
        "id": "WuzE3fPFTa06"
      },
      "execution_count": null,
      "outputs": []
    },
    {
      "cell_type": "code",
      "source": [
        "training_set = dataset_train.iloc[:, 1:2].values #taking one coluns, based on it we are gonna predict"
      ],
      "metadata": {
        "id": "b4D_z57QTrB_"
      },
      "execution_count": null,
      "outputs": []
    },
    {
      "cell_type": "code",
      "source": [
        "#feature scaling\n",
        "from sklearn.preprocessing import MinMaxScaler\n",
        "sc = MinMaxScaler()\n",
        "training_set_scaled = sc.fit_transform(training_set)"
      ],
      "metadata": {
        "id": "grHQ4XBiTvHo"
      },
      "execution_count": null,
      "outputs": []
    },
    {
      "cell_type": "code",
      "source": [
        "x_train=[]\n",
        "y_train=[]"
      ],
      "metadata": {
        "id": "UWWEUEG4RC2z"
      },
      "execution_count": null,
      "outputs": []
    },
    {
      "cell_type": "code",
      "source": [
        "#assiging x_train & y_train\n",
        "for i in range(60,1258): #1258 = total no of rows\n",
        "  x_train.append(training_set_scaled[i-60:i,0]) #i=60; i-60== 60-60 i.e., 0 to 60 'i-60:i' == 0th row to 60th row; '0' == 1st col. #1st 60 data is given into x_train\n",
        "  y_train.append(training_set_scaled[i,0])\n",
        "x_train,y_train=np.array(x_train),np.array(y_train)"
      ],
      "metadata": {
        "id": "D47NmVl8T9n7"
      },
      "execution_count": null,
      "outputs": []
    },
    {
      "cell_type": "code",
      "source": [
        "x_train = np.reshape(x_train,(x_train.shape[0],x_train.shape[1],1))"
      ],
      "metadata": {
        "id": "gfl8MJFuUBgF"
      },
      "execution_count": null,
      "outputs": []
    },
    {
      "cell_type": "code",
      "source": [
        "gru=Sequential()"
      ],
      "metadata": {
        "id": "Z1CxoM8qUE7Z"
      },
      "execution_count": null,
      "outputs": []
    },
    {
      "cell_type": "code",
      "source": [
        "from keras.layers import Dense, LSTM, GRU"
      ],
      "metadata": {
        "id": "EGasBufQUKth"
      },
      "execution_count": null,
      "outputs": []
    },
    {
      "cell_type": "code",
      "source": [
        "gru.add(GRU(units=50, return_sequences=True, input_shape=(x_train.shape[1],1), activation='tanh'))\n",
        "gru.add(Dropout(0.2))\n",
        "gru.add(GRU(units=50, return_sequences=True, activation='tanh'))\n",
        "gru.add(Dropout(0.2))\n",
        "gru.add(GRU(units=50, return_sequences=True,activation='tanh'))\n",
        "gru.add(Dropout(0.2))\n",
        "gru.add(GRU(units=50, activation='tanh'))\n",
        "gru.add(Dropout(0.2))\n",
        "gru.add(Dense(units=1))"
      ],
      "metadata": {
        "id": "0M62bmiqUQJf"
      },
      "execution_count": null,
      "outputs": []
    },
    {
      "cell_type": "code",
      "source": [
        "from keras.optimizers import SGD"
      ],
      "metadata": {
        "id": "S8bl7f5xVmVe"
      },
      "execution_count": null,
      "outputs": []
    },
    {
      "cell_type": "code",
      "source": [
        "gru.compile(optimizer=SGD(learning_rate=0.01, decay=1e-7, momentum=0.9, nesterov=False),loss='mean_squared_error')"
      ],
      "metadata": {
        "id": "Fwc5uu1dUlby"
      },
      "execution_count": null,
      "outputs": []
    },
    {
      "cell_type": "code",
      "source": [
        "# Fitting to the training set\n",
        "gru.fit(x_train,y_train,epochs=10,batch_size=32)"
      ],
      "metadata": {
        "colab": {
          "base_uri": "https://localhost:8080/"
        },
        "id": "EvHtoqLlVb0t",
        "outputId": "500c5228-3fe3-4297-bedc-f1dd09cd2ad6"
      },
      "execution_count": null,
      "outputs": [
        {
          "output_type": "stream",
          "name": "stdout",
          "text": [
            "Epoch 1/10\n",
            "38/38 [==============================] - 20s 237ms/step - loss: 0.1046\n",
            "Epoch 2/10\n",
            "38/38 [==============================] - 8s 220ms/step - loss: 0.0445\n",
            "Epoch 3/10\n",
            "38/38 [==============================] - 7s 191ms/step - loss: 0.0061\n",
            "Epoch 4/10\n",
            "38/38 [==============================] - 8s 221ms/step - loss: 0.0048\n",
            "Epoch 5/10\n",
            "38/38 [==============================] - 8s 211ms/step - loss: 0.0041\n",
            "Epoch 6/10\n",
            "38/38 [==============================] - 7s 190ms/step - loss: 0.0038\n",
            "Epoch 7/10\n",
            "38/38 [==============================] - 9s 241ms/step - loss: 0.0035\n",
            "Epoch 8/10\n",
            "38/38 [==============================] - 8s 213ms/step - loss: 0.0039\n",
            "Epoch 9/10\n",
            "38/38 [==============================] - 8s 206ms/step - loss: 0.0035\n",
            "Epoch 10/10\n",
            "38/38 [==============================] - 8s 217ms/step - loss: 0.0035\n"
          ]
        },
        {
          "output_type": "execute_result",
          "data": {
            "text/plain": [
              "<keras.callbacks.History at 0x7fbcaef6b580>"
            ]
          },
          "metadata": {},
          "execution_count": 20
        }
      ]
    },
    {
      "cell_type": "code",
      "source": [
        "dataset_test=pd.read_csv('/content/Google_Stock_Price_Train.csv')"
      ],
      "metadata": {
        "id": "7Rky6QySYIa0"
      },
      "execution_count": null,
      "outputs": []
    },
    {
      "cell_type": "code",
      "source": [
        "real_stock_price=dataset_test.iloc[:,1:2].values"
      ],
      "metadata": {
        "id": "VlkD704mYIdW"
      },
      "execution_count": null,
      "outputs": []
    },
    {
      "cell_type": "code",
      "source": [
        "#prediction of stock price\n",
        "dataset_total=pd.concat((dataset_train['Open'],dataset_test['Open']),axis=0)"
      ],
      "metadata": {
        "id": "t74eKnqmYIga"
      },
      "execution_count": null,
      "outputs": []
    },
    {
      "cell_type": "code",
      "source": [
        "inputs=dataset_total[len(dataset_total)-len(dataset_test)-60:].values\n",
        "inputs=inputs.reshape(-1,1)\n",
        "inputs=sc.transform(inputs)"
      ],
      "metadata": {
        "id": "txraEOlrX9vT"
      },
      "execution_count": null,
      "outputs": []
    },
    {
      "cell_type": "code",
      "source": [
        "# Preparing X_test and predicting the prices\n",
        "X_test = []\n",
        "for i in range(60,227):\n",
        "    X_test.append(inputs[i-60:i,0])\n",
        "X_test = np.array(X_test)\n",
        "X_test = np.reshape(X_test, (X_test.shape[0],X_test.shape[1],1))\n",
        "GRU_predicted_stock_price = gru.predict(X_test)\n",
        "GRU_predicted_stock_price = sc.inverse_transform(GRU_predicted_stock_price)\n"
      ],
      "metadata": {
        "colab": {
          "base_uri": "https://localhost:8080/"
        },
        "id": "QRcgLh5VVzlB",
        "outputId": "0aac5d08-cb78-40bc-86ab-daff32d5c2b7"
      },
      "execution_count": null,
      "outputs": [
        {
          "output_type": "stream",
          "name": "stdout",
          "text": [
            "6/6 [==============================] - 2s 40ms/step\n"
          ]
        }
      ]
    },
    {
      "cell_type": "code",
      "source": [
        "# Visualizing the results for GRU\n",
        "plt.plot(real_stock_price, color = 'red', label='Real google stock price')\n",
        "plt.plot(GRU_predicted_stock_price, color = 'blue', label = 'predicted stock price')\n",
        "plt.title('Google stock price prediction')\n",
        "plt.xlabel('time')\n",
        "plt.ylabel('googlr stock price')\n",
        "plt.legend()\n",
        "plt.show()"
      ],
      "metadata": {
        "colab": {
          "base_uri": "https://localhost:8080/",
          "height": 472
        },
        "id": "XdURAVjsXopy",
        "outputId": "52a5487b-4bf4-481a-aa14-85144ee7c994"
      },
      "execution_count": null,
      "outputs": [
        {
          "output_type": "display_data",
          "data": {
            "text/plain": [
              "<Figure size 640x480 with 1 Axes>"
            ],
            "image/png": "[encoded data removed]"
          },
          "metadata": {}
        }
      ]
    },
    {
      "cell_type": "code",
      "source": [],
      "metadata": {
        "id": "SeQGEvfWYmHD"
      },
      "execution_count": null,
      "outputs": []
    },
    {
      "cell_type": "code",
      "source": [
        "from keras.layers import TimeDistributed\n",
        "from keras.layers import Bidirectional, BatchNormalization"
      ],
      "metadata": {
        "id": "BFwBMrhUZkd_"
      },
      "execution_count": null,
      "outputs": []
    },
    {
      "cell_type": "code",
      "source": [
        "model4=Sequential()\n",
        "model4.add(Bidirectional(LSTM(100,return_sequences=True,activation='relu',input_shape=(1,60))))\n",
        "model4.add(Bidirectional(LSTM(50,return_sequences=True,dropout=0.5)))\n",
        "model4.add(Bidirectional(LSTM(50,dropout=0.5)))\n",
        "model4.add(BatchNormalization(momentum=0.6))\n",
        "model4.add(Dense(1))"
      ],
      "metadata": {
        "id": "_LSmBp00ZWch"
      },
      "execution_count": null,
      "outputs": []
    },
    {
      "cell_type": "code",
      "source": [
        "model4.compile(loss='mean_squared_error',optimizer='rmsprop')"
      ],
      "metadata": {
        "id": "R3RnhiE4ZWfN"
      },
      "execution_count": null,
      "outputs": []
    },
    {
      "cell_type": "code",
      "source": [
        "model4.fit(x_train,y_train,epochs=20,batch_size=32)"
      ],
      "metadata": {
        "colab": {
          "base_uri": "https://localhost:8080/"
        },
        "id": "K_ui-YjIZWh_",
        "outputId": "afebda68-fe38-435d-bd5f-ee5417c27ccd"
      },
      "execution_count": null,
      "outputs": [
        {
          "output_type": "stream",
          "name": "stdout",
          "text": [
            "Epoch 1/20\n",
            "38/38 [==============================] - 21s 234ms/step - loss: 0.1924\n",
            "Epoch 2/20\n",
            "38/38 [==============================] - 10s 260ms/step - loss: 0.0169\n",
            "Epoch 3/20\n",
            "38/38 [==============================] - 10s 262ms/step - loss: 0.0112\n",
            "Epoch 4/20\n",
            "38/38 [==============================] - 9s 239ms/step - loss: 0.0072\n",
            "Epoch 5/20\n",
            "38/38 [==============================] - 9s 245ms/step - loss: 0.0066\n",
            "Epoch 6/20\n",
            "38/38 [==============================] - 10s 268ms/step - loss: 0.0072\n",
            "Epoch 7/20\n",
            "38/38 [==============================] - 10s 267ms/step - loss: 0.0061\n",
            "Epoch 8/20\n",
            "38/38 [==============================] - 9s 230ms/step - loss: 0.0052\n",
            "Epoch 9/20\n",
            "38/38 [==============================] - 10s 249ms/step - loss: 0.0052\n",
            "Epoch 10/20\n",
            "38/38 [==============================] - 10s 266ms/step - loss: 0.0053\n",
            "Epoch 11/20\n",
            "38/38 [==============================] - 11s 280ms/step - loss: 0.0061\n",
            "Epoch 12/20\n",
            "38/38 [==============================] - 10s 267ms/step - loss: 0.0052\n",
            "Epoch 13/20\n",
            "38/38 [==============================] - 9s 227ms/step - loss: 0.0051\n",
            "Epoch 14/20\n",
            "38/38 [==============================] - 10s 263ms/step - loss: 0.0052\n",
            "Epoch 15/20\n",
            "38/38 [==============================] - 10s 260ms/step - loss: 0.0049\n",
            "Epoch 16/20\n",
            "38/38 [==============================] - 9s 238ms/step - loss: 0.0049\n",
            "Epoch 17/20\n",
            "38/38 [==============================] - 9s 244ms/step - loss: 0.0040\n",
            "Epoch 18/20\n",
            "38/38 [==============================] - 10s 261ms/step - loss: 0.0061\n",
            "Epoch 19/20\n",
            "38/38 [==============================] - 10s 262ms/step - loss: 0.0042\n",
            "Epoch 20/20\n",
            "38/38 [==============================] - 9s 224ms/step - loss: 0.0050\n"
          ]
        },
        {
          "output_type": "execute_result",
          "data": {
            "text/plain": [
              "<keras.callbacks.History at 0x7fbc9d5e47f0>"
            ]
          },
          "metadata": {},
          "execution_count": 37
        }
      ]
    },
    {
      "cell_type": "code",
      "source": [],
      "metadata": {
        "id": "EBxlEBggZWld"
      },
      "execution_count": null,
      "outputs": []
    },
    {
      "cell_type": "code",
      "source": [],
      "metadata": {
        "id": "rX0ZTzNoZWqy"
      },
      "execution_count": null,
      "outputs": []
    },
    {
      "cell_type": "code",
      "source": [],
      "metadata": {
        "id": "-62KlkBEZWvE"
      },
      "execution_count": null,
      "outputs": []
    },
    {
      "cell_type": "code",
      "source": [],
      "metadata": {
        "id": "7KLbKyKfZWz6"
      },
      "execution_count": null,
      "outputs": []
    },
    {
      "cell_type": "code",
      "source": [],
      "metadata": {
        "id": "h1dSaoS_ZW35"
      },
      "execution_count": null,
      "outputs": []
    },
    {
      "cell_type": "code",
      "source": [],
      "metadata": {
        "id": "8gKrH1quZW8g"
      },
      "execution_count": null,
      "outputs": []
    },
    {
      "cell_type": "code",
      "source": [],
      "metadata": {
        "id": "TZw80UbjZW-_"
      },
      "execution_count": null,
      "outputs": []
    },
    {
      "cell_type": "code",
      "source": [],
      "metadata": {
        "id": "oiLTHZ4wZXBK"
      },
      "execution_count": null,
      "outputs": []
    }
  ]
}