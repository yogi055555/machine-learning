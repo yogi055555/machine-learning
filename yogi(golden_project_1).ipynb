{
  "nbformat": 4,
  "nbformat_minor": 0,
  "metadata": {
    "colab": {
      "provenance": [],
      "authorship_tag": "ABX9TyNY3AsVobDJe3zDmEmbqSMS",
      "include_colab_link": true
    },
    "kernelspec": {
      "name": "python3",
      "display_name": "Python 3"
    },
    "language_info": {
      "name": "python"
    }
  },
  "cells": [
    {
      "cell_type": "markdown",
      "metadata": {
        "id": "view-in-github",
        "colab_type": "text"
      },
      "source": [
        "<a href=\"https://colab.research.google.com/github/yogi055555/machine-learning/blob/main/yogi(golden_project_1).ipynb\" target=\"_parent\"><img src=\"https://colab.research.google.com/assets/colab-badge.svg\" alt=\"Open In Colab\"/></a>"
      ]
    },
    {
      "cell_type": "code",
      "execution_count": 1,
      "metadata": {
        "colab": {
          "base_uri": "https://localhost:8080/"
        },
        "id": "uH1eWv73NWtR",
        "outputId": "077d24ff-2fd4-4974-de72-e2b95e59b00a"
      },
      "outputs": [
        {
          "output_type": "stream",
          "name": "stdout",
          "text": [
            "Welcome to the Speed Typing Test!\n",
            "Press Enter to start...hhh\n",
            "Type the following text as fast as you can:\n",
            "\n",
            "The quick brown fox jumps over the lazy dog. \n",
            "Pack my box with five dozen liquor jugs.\n",
            "\n",
            "Start typing here:\n",
            "yogdnjsndisijzf9ufizdfizdhfdziidf9\n",
            "\n",
            "Typing Speed: 113.65 words per minute\n",
            "Accuracy: 0.00%\n"
          ]
        }
      ],
      "source": [
        "import random\n",
        "import time\n",
        "\n",
        "# Sample text passage for the typing test\n",
        "text = \"\"\"The quick brown fox jumps over the lazy dog.\n",
        "Pack my box with five dozen liquor jugs.\"\"\"\n",
        "\n",
        "def calculate_typing_speed(start_time, end_time, text_length):\n",
        "    time_elapsed = end_time - start_time\n",
        "    words_typed = text_length / 5  # Assuming an average word length of 5 characters\n",
        "    typing_speed = words_typed / (time_elapsed / 60)  # Words per minute\n",
        "    return typing_speed\n",
        "\n",
        "def typing_test():\n",
        "    print(\"Welcome to the Speed Typing Test!\")\n",
        "    input(\"Press Enter to start...\")\n",
        "    print(\"Type the following text as fast as you can:\\n\")\n",
        "    print(text)\n",
        "\n",
        "    start_time = time.time()\n",
        "    user_input = input(\"\\nStart typing here:\\n\")\n",
        "    end_time = time.time()\n",
        "\n",
        "    # Calculate typing speed and accuracy\n",
        "    text_length = len(text)\n",
        "    user_input = user_input.strip()  # Remove leading/trailing whitespace\n",
        "    accuracy = sum(1 for u, t in zip(user_input, text) if u == t) / text_length * 100\n",
        "\n",
        "    typing_speed = calculate_typing_speed(start_time, end_time, text_length)\n",
        "\n",
        "    print(\"\\nTyping Speed: {:.2f} words per minute\".format(typing_speed))\n",
        "    print(\"Accuracy: {:.2f}%\".format(accuracy))\n",
        "\n",
        "if __name__ == \"__main__\":\n",
        "    typing_test()\n"
      ]
    }
  ]
}