{
  "nbformat": 4,
  "nbformat_minor": 0,
  "metadata": {
    "colab": {
      "provenance": [],
      "gpuType": "T4"
    },
    "kernelspec": {
      "name": "python3",
      "display_name": "Python 3"
    },
    "language_info": {
      "name": "python"
    },
    "accelerator": "GPU"
  },
  "cells": [
    {
      "cell_type": "code",
      "execution_count": null,
      "metadata": {
        "id": "gnTWEf3kCZhr"
      },
      "outputs": [],
      "source": [
        "import numpy as np\n",
        "from keras.utils import to_categorical, plot_model\n",
        "from keras.models import Sequential\n",
        "from keras.layers import Dense, Activation, Dropout, SimpleRNN\n"
      ]
    },
    {
      "cell_type": "code",
      "source": [
        "from keras.datasets import mnist\n",
        "#dataset loading\n",
        "(x_train,y_train),(x_test,y_test)=mnist.load_data()"
      ],
      "metadata": {
        "colab": {
          "base_uri": "https://localhost:8080/"
        },
        "id": "Az8RHOrvFaZr",
        "outputId": "c90bf0aa-6cd1-4cb7-a79d-8956a6900a49"
      },
      "execution_count": null,
      "outputs": [
        {
          "output_type": "stream",
          "name": "stdout",
          "text": [
            "Downloading data from https://storage.googleapis.com/tensorflow/tf-keras-datasets/mnist.npz\n",
            "11490434/11490434 [==============================] - 1s 0us/step\n"
          ]
        }
      ]
    },
    {
      "cell_type": "code",
      "source": [
        "#no. of labels\n",
        "num_labels=len(np.unique(y_train))"
      ],
      "metadata": {
        "id": "myFVHmNUE5uF"
      },
      "execution_count": null,
      "outputs": []
    },
    {
      "cell_type": "code",
      "source": [
        "num_labels"
      ],
      "metadata": {
        "colab": {
          "base_uri": "https://localhost:8080/"
        },
        "id": "G0K142CHHRJK",
        "outputId": "ebf1d905-c15c-4adc-cd80-087cef821ca3"
      },
      "execution_count": null,
      "outputs": [
        {
          "output_type": "execute_result",
          "data": {
            "text/plain": [
              "10"
            ]
          },
          "metadata": {},
          "execution_count": 5
        }
      ]
    },
    {
      "cell_type": "code",
      "source": [
        "#convertion to one-hot vector\n",
        "y_train=to_categorical(y_train)\n",
        "y_test = to_categorical(y_test)"
      ],
      "metadata": {
        "id": "s6OCDNHqG9yC"
      },
      "execution_count": null,
      "outputs": []
    },
    {
      "cell_type": "code",
      "source": [
        "print(y_train)\n"
      ],
      "metadata": {
        "colab": {
          "base_uri": "https://localhost:8080/"
        },
        "id": "jA76uv_lHUsi",
        "outputId": "f33d5e5c-7466-4748-d0a1-9cb6b65f39a7"
      },
      "execution_count": null,
      "outputs": [
        {
          "output_type": "stream",
          "name": "stdout",
          "text": [
            "[[0. 0. 0. ... 0. 0. 0.]\n",
            " [1. 0. 0. ... 0. 0. 0.]\n",
            " [0. 0. 0. ... 0. 0. 0.]\n",
            " ...\n",
            " [0. 0. 0. ... 0. 0. 0.]\n",
            " [0. 0. 0. ... 0. 0. 0.]\n",
            " [0. 0. 0. ... 0. 1. 0.]]\n"
          ]
        }
      ]
    },
    {
      "cell_type": "code",
      "source": [
        "print(y_train[0]) #the results infer that at the 1st row, '5' is assigned therfore it is denoted '1' in the 5th index and others '0'\n"
      ],
      "metadata": {
        "colab": {
          "base_uri": "https://localhost:8080/"
        },
        "id": "kFDXwA5vI887",
        "outputId": "5f2ee6d3-e8c6-46cc-d071-0a671ea291c9"
      },
      "execution_count": null,
      "outputs": [
        {
          "output_type": "stream",
          "name": "stdout",
          "text": [
            "[0. 0. 0. 0. 0. 1. 0. 0. 0. 0.]\n"
          ]
        }
      ]
    },
    {
      "cell_type": "code",
      "source": [
        "print(y_train[6])\n"
      ],
      "metadata": {
        "colab": {
          "base_uri": "https://localhost:8080/"
        },
        "id": "WJv4o0RbI9Br",
        "outputId": "135db209-08d0-4b91-a1d4-3ca200c48a7b"
      },
      "execution_count": null,
      "outputs": [
        {
          "output_type": "stream",
          "name": "stdout",
          "text": [
            "[0. 1. 0. 0. 0. 0. 0. 0. 0. 0.]\n"
          ]
        }
      ]
    },
    {
      "cell_type": "code",
      "source": [],
      "metadata": {
        "id": "dQZIDF_9I9Ha"
      },
      "execution_count": null,
      "outputs": []
    },
    {
      "cell_type": "code",
      "source": [
        "print(y_test)"
      ],
      "metadata": {
        "colab": {
          "base_uri": "https://localhost:8080/"
        },
        "id": "iEGIauQyHrFg",
        "outputId": "d798f674-5756-4c9e-9e9c-769bba704dce"
      },
      "execution_count": null,
      "outputs": [
        {
          "output_type": "stream",
          "name": "stdout",
          "text": [
            "[[0. 0. 0. ... 1. 0. 0.]\n",
            " [0. 0. 1. ... 0. 0. 0.]\n",
            " [0. 1. 0. ... 0. 0. 0.]\n",
            " ...\n",
            " [0. 0. 0. ... 0. 0. 0.]\n",
            " [0. 0. 0. ... 0. 0. 0.]\n",
            " [0. 0. 0. ... 0. 0. 0.]]\n"
          ]
        }
      ]
    },
    {
      "cell_type": "code",
      "source": [
        "x_train.shape"
      ],
      "metadata": {
        "colab": {
          "base_uri": "https://localhost:8080/"
        },
        "id": "en15Aw1vIA7P",
        "outputId": "638e6f15-6147-465d-fbb5-160ac90df848"
      },
      "execution_count": null,
      "outputs": [
        {
          "output_type": "execute_result",
          "data": {
            "text/plain": [
              "(60000, 28, 28)"
            ]
          },
          "metadata": {},
          "execution_count": 12
        }
      ]
    },
    {
      "cell_type": "code",
      "source": [
        "#resize and normalise\n",
        "image_size= x_train.shape[1]\n",
        "x_train=np.reshape(x_train,[-1,image_size,image_size])\n",
        "print(x_train.shape)\n",
        "x_test=np.reshape(x_test,[-1,image_size,image_size])\n",
        "print(x_test.shape)\n",
        "x_train=x_train.astype('float32')/255\n",
        "x_test=x_test.astype('float32')/255"
      ],
      "metadata": {
        "colab": {
          "base_uri": "https://localhost:8080/"
        },
        "id": "lYuskCwEJJ_y",
        "outputId": "a3c521fe-9e30-44b5-e2f4-83f2554e3043"
      },
      "execution_count": null,
      "outputs": [
        {
          "output_type": "stream",
          "name": "stdout",
          "text": [
            "(60000, 28, 28)\n",
            "(10000, 28, 28)\n"
          ]
        }
      ]
    },
    {
      "cell_type": "code",
      "source": [
        "#network parameters\n",
        "input_shape=(image_size,image_size)\n",
        "batch_size=128\n",
        "units=28\n",
        "dropout=0.2"
      ],
      "metadata": {
        "id": "AYul5gRRKRqW"
      },
      "execution_count": null,
      "outputs": []
    },
    {
      "cell_type": "code",
      "source": [
        "#model build - simple RNN\n",
        "model=Sequential()\n",
        "model.add(SimpleRNN(units=units,input_shape=input_shape))\n",
        "model.add(Dense(num_labels))\n",
        "model.add(Activation('softmax'))\n",
        "model.summary()"
      ],
      "metadata": {
        "colab": {
          "base_uri": "https://localhost:8080/"
        },
        "id": "DUfhIZrNFiQS",
        "outputId": "2b37c5b9-74d5-4aba-d0cb-8826870072a7"
      },
      "execution_count": null,
      "outputs": [
        {
          "output_type": "stream",
          "name": "stdout",
          "text": [
            "Model: \"sequential_3\"\n",
            "_________________________________________________________________\n",
            " Layer (type)                Output Shape              Param #   \n",
            "=================================================================\n",
            " simple_rnn_2 (SimpleRNN)    (None, 28)                1596      \n",
            "                                                                 \n",
            " dense_2 (Dense)             (None, 10)                290       \n",
            "                                                                 \n",
            " activation_2 (Activation)   (None, 10)                0         \n",
            "                                                                 \n",
            "=================================================================\n",
            "Total params: 1,886\n",
            "Trainable params: 1,886\n",
            "Non-trainable params: 0\n",
            "_________________________________________________________________\n"
          ]
        }
      ]
    },
    {
      "cell_type": "code",
      "source": [
        "plot_model(model,to_file='rnn-mnist.png',show_shapes=True)"
      ],
      "metadata": {
        "colab": {
          "base_uri": "https://localhost:8080/",
          "height": 422
        },
        "id": "dua38fYgHwUW",
        "outputId": "361c780e-472d-4c4e-bfc7-e10da73c324c"
      },
      "execution_count": null,
      "outputs": [
        {
          "output_type": "execute_result",
          "data": {
            "image/png": "[encoded data removed]",
            "text/plain": [
              "<IPython.core.display.Image object>"
            ]
          },
          "metadata": {},
          "execution_count": 21
        }
      ]
    },
    {
      "cell_type": "code",
      "source": [
        "model.compile(loss='categorical_crossentropy',optimizer='sgd',metrics=['accuracy'])"
      ],
      "metadata": {
        "id": "D4DJOF1TLe9u"
      },
      "execution_count": null,
      "outputs": []
    },
    {
      "cell_type": "code",
      "source": [
        "model.fit(x_train,y_train,epochs=15,batch_size=batch_size)"
      ],
      "metadata": {
        "colab": {
          "base_uri": "https://localhost:8080/"
        },
        "id": "OD0NWwI5LugU",
        "outputId": "3e09fd80-4a66-4afd-d58f-fbb22342f035"
      },
      "execution_count": null,
      "outputs": [
        {
          "output_type": "stream",
          "name": "stdout",
          "text": [
            "Epoch 1/15\n",
            "469/469 [==============================] - 10s 22ms/step - loss: 0.9846 - accuracy: 0.6726\n",
            "Epoch 2/15\n",
            "469/469 [==============================] - 13s 27ms/step - loss: 0.8439 - accuracy: 0.7306\n",
            "Epoch 3/15\n",
            "469/469 [==============================] - 16s 35ms/step - loss: 0.7590 - accuracy: 0.7676\n",
            "Epoch 4/15\n",
            "469/469 [==============================] - 9s 20ms/step - loss: 0.6800 - accuracy: 0.8007\n",
            "Epoch 5/15\n",
            "469/469 [==============================] - 17s 36ms/step - loss: 0.6180 - accuracy: 0.8222\n",
            "Epoch 6/15\n",
            "469/469 [==============================] - 13s 28ms/step - loss: 0.5659 - accuracy: 0.8398\n",
            "Epoch 7/15\n",
            "469/469 [==============================] - 16s 34ms/step - loss: 0.5221 - accuracy: 0.8523\n",
            "Epoch 8/15\n",
            "469/469 [==============================] - 12s 26ms/step - loss: 0.4988 - accuracy: 0.8595\n",
            "Epoch 9/15\n",
            "469/469 [==============================] - 11s 22ms/step - loss: 0.4768 - accuracy: 0.8646\n",
            "Epoch 10/15\n",
            "469/469 [==============================] - 12s 25ms/step - loss: 0.4488 - accuracy: 0.8751\n",
            "Epoch 11/15\n",
            "469/469 [==============================] - 13s 29ms/step - loss: 0.4556 - accuracy: 0.8729\n",
            "Epoch 12/15\n",
            "469/469 [==============================] - 12s 26ms/step - loss: 0.4130 - accuracy: 0.8851\n",
            "Epoch 13/15\n",
            "469/469 [==============================] - 12s 26ms/step - loss: 0.4107 - accuracy: 0.8863\n",
            "Epoch 14/15\n",
            "469/469 [==============================] - 11s 24ms/step - loss: 0.3950 - accuracy: 0.8897\n",
            "Epoch 15/15\n",
            "469/469 [==============================] - 10s 21ms/step - loss: 0.3910 - accuracy: 0.8910\n"
          ]
        },
        {
          "output_type": "execute_result",
          "data": {
            "text/plain": [
              "<keras.callbacks.History at 0x7f153986e1d0>"
            ]
          },
          "metadata": {},
          "execution_count": 28
        }
      ]
    },
    {
      "cell_type": "code",
      "source": [
        "loss, acc =model.evaluate(x_test,y_test,batch_size-batch_size)\n",
        "print('\\nTest accuracy: %.1f%%' % (100.0*acc))"
      ],
      "metadata": {
        "colab": {
          "base_uri": "https://localhost:8080/"
        },
        "id": "IQtL6JbxL88a",
        "outputId": "1ea6d638-12a8-4052-dc48-5971cfa7d1dd"
      },
      "execution_count": null,
      "outputs": [
        {
          "output_type": "stream",
          "name": "stdout",
          "text": [
            "313/313 [==============================] - 2s 5ms/step - loss: 0.3435 - accuracy: 0.9076\n",
            "\n",
            "Test accuracy: 90.8%\n"
          ]
        }
      ]
    },
    {
      "cell_type": "code",
      "source": [],
      "metadata": {
        "id": "zG--QfXGNpfL"
      },
      "execution_count": null,
      "outputs": []
    }
  ]
}