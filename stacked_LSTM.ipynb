{
  "nbformat": 4,
  "nbformat_minor": 0,
  "metadata": {
    "colab": {
      "provenance": []
    },
    "kernelspec": {
      "name": "python3",
      "display_name": "Python 3"
    },
    "language_info": {
      "name": "python"
    }
  },
  "cells": [
    {
      "cell_type": "code",
      "source": [
        "from keras.models import Sequential\n",
        "from keras.layers import Dense\n",
        "from keras.layers import LSTM\n",
        "from keras.layers import Dropout"
      ],
      "metadata": {
        "id": "8zNdq1GAJ7z0"
      },
      "execution_count": null,
      "outputs": []
    },
    {
      "cell_type": "code",
      "source": [
        "import numpy as np\n",
        "import pandas as pd\n",
        "import matplotlib.pyplot as plt"
      ],
      "metadata": {
        "id": "umVUtCW9LDZt"
      },
      "execution_count": null,
      "outputs": []
    },
    {
      "cell_type": "code",
      "source": [
        "dataset_train=pd.read_csv('/content/Google_Stock_Price_Train.csv')"
      ],
      "metadata": {
        "id": "-rvwaVL-KB3-"
      },
      "execution_count": null,
      "outputs": []
    },
    {
      "cell_type": "code",
      "source": [
        "training_set = dataset_train.iloc[:, 1:3].values #displaying the col 'open', col 'high' using the slice operator. iloc[:,]-denoted all rows, iloc[:,1:3] where 1:3- 2nd and 3rd cols; \".values\" - to print the data into an array instead of dataframe"
      ],
      "metadata": {
        "id": "U4EJe5juKB8M"
      },
      "execution_count": null,
      "outputs": []
    },
    {
      "cell_type": "code",
      "source": [
        "training_set = dataset_train.iloc[:, 1:2].values #taking one coluns, based on it we are gonna predict"
      ],
      "metadata": {
        "id": "sHn9bNnmKCBw"
      },
      "execution_count": null,
      "outputs": []
    },
    {
      "cell_type": "code",
      "source": [
        "#feature scaling\n",
        "from sklearn.preprocessing import MinMaxScaler\n",
        "sc = MinMaxScaler()\n",
        "training_set_scaled = sc.fit_transform(training_set)"
      ],
      "metadata": {
        "id": "U21Ji_cQKCFQ"
      },
      "execution_count": null,
      "outputs": []
    },
    {
      "cell_type": "code",
      "source": [
        "x_train=[]\n",
        "y_train=[]"
      ],
      "metadata": {
        "id": "lqk8CFMjKCJV"
      },
      "execution_count": null,
      "outputs": []
    },
    {
      "cell_type": "code",
      "source": [
        "#assiging x_train & y_train\n",
        "for i in range(60,1258): #1258 = total no of rows\n",
        "  x_train.append(training_set_scaled[i-60:i,0]) #i=60; i-60== 60-60 i.e., 0 to 60 'i-60:i' == 0th row to 60th row; '0' == 1st col. #1st 60 data is given into x_train\n",
        "  y_train.append(training_set_scaled[i,0])\n",
        "x_train,y_train=np.array(x_train),np.array(y_train)"
      ],
      "metadata": {
        "id": "G8qQxJdRKCND"
      },
      "execution_count": null,
      "outputs": []
    },
    {
      "cell_type": "code",
      "source": [
        "from keras.layers import Activation"
      ],
      "metadata": {
        "id": "fnO_SPNjOhw4"
      },
      "execution_count": null,
      "outputs": []
    },
    {
      "cell_type": "code",
      "source": [
        "#stacked LSTM\n",
        "model=Sequential()\n",
        "model.add(LSTM(units = 10, return_sequences = True, input_shape = (x_train.shape[1],1)))\n",
        "model.add(LSTM(units = 50, return_sequences = True))\n",
        "model.add(LSTM(units = 100, return_sequences = True))\n",
        "model.add(LSTM(units = 150, return_sequences = False))\n",
        "model.add(Dense(units=1))\n",
        "model.add(Activation('softmax'))\n",
        "model.summary()"
      ],
      "metadata": {
        "colab": {
          "base_uri": "https://localhost:8080/"
        },
        "id": "BTIV4NXFKCQO",
        "outputId": "2e453ef0-7419-4d63-f57a-c2178b5f299f"
      },
      "execution_count": null,
      "outputs": [
        {
          "output_type": "stream",
          "name": "stdout",
          "text": [
            "Model: \"sequential_2\"\n",
            "_________________________________________________________________\n",
            " Layer (type)                Output Shape              Param #   \n",
            "=================================================================\n",
            " lstm_8 (LSTM)               (None, 60, 10)            480       \n",
            "                                                                 \n",
            " lstm_9 (LSTM)               (None, 60, 50)            12200     \n",
            "                                                                 \n",
            " lstm_10 (LSTM)              (None, 60, 100)           60400     \n",
            "                                                                 \n",
            " lstm_11 (LSTM)              (None, 150)               150600    \n",
            "                                                                 \n",
            " dense_2 (Dense)             (None, 1)                 151       \n",
            "                                                                 \n",
            " activation (Activation)     (None, 1)                 0         \n",
            "                                                                 \n",
            "=================================================================\n",
            "Total params: 223,831\n",
            "Trainable params: 223,831\n",
            "Non-trainable params: 0\n",
            "_________________________________________________________________\n"
          ]
        }
      ]
    },
    {
      "cell_type": "code",
      "source": [
        "from keras.optimizers import RMSprop\n",
        "from keras.callbacks import Callback"
      ],
      "metadata": {
        "id": "GIVPeu-TMjQ3"
      },
      "execution_count": null,
      "outputs": []
    },
    {
      "cell_type": "code",
      "source": [
        "model.compile(loss='mean_squared_error',optimizer=RMSprop(),metrics=['mse'])"
      ],
      "metadata": {
        "id": "3vDmmp5jKCUu"
      },
      "execution_count": null,
      "outputs": []
    },
    {
      "cell_type": "code",
      "source": [
        "model.fit(x_train,y_train,epochs=20)"
      ],
      "metadata": {
        "colab": {
          "base_uri": "https://localhost:8080/"
        },
        "id": "5XVeiQiCKCa_",
        "outputId": "dc3917b6-e777-4ee9-99e6-3e7589876c05"
      },
      "execution_count": null,
      "outputs": [
        {
          "output_type": "stream",
          "name": "stdout",
          "text": [
            "Epoch 1/20\n",
            "38/38 [==============================] - 25s 371ms/step - loss: 0.3296 - mse: 0.3296\n",
            "Epoch 2/20\n",
            "38/38 [==============================] - 10s 259ms/step - loss: 0.3296 - mse: 0.3296\n",
            "Epoch 3/20\n",
            "38/38 [==============================] - 13s 342ms/step - loss: 0.3296 - mse: 0.3296\n",
            "Epoch 4/20\n",
            "38/38 [==============================] - 12s 321ms/step - loss: 0.3296 - mse: 0.3296\n",
            "Epoch 5/20\n",
            "38/38 [==============================] - 12s 327ms/step - loss: 0.3296 - mse: 0.3296\n",
            "Epoch 6/20\n",
            "38/38 [==============================] - 15s 402ms/step - loss: 0.3296 - mse: 0.3296\n",
            "Epoch 7/20\n",
            "38/38 [==============================] - 13s 343ms/step - loss: 0.3296 - mse: 0.3296\n",
            "Epoch 8/20\n",
            "38/38 [==============================] - 11s 291ms/step - loss: 0.3296 - mse: 0.3296\n",
            "Epoch 9/20\n",
            "38/38 [==============================] - 12s 329ms/step - loss: 0.3296 - mse: 0.3296\n",
            "Epoch 10/20\n",
            "38/38 [==============================] - 11s 280ms/step - loss: 0.3296 - mse: 0.3296\n",
            "Epoch 11/20\n",
            "38/38 [==============================] - 9s 237ms/step - loss: 0.3296 - mse: 0.3296\n",
            "Epoch 12/20\n",
            "38/38 [==============================] - 10s 258ms/step - loss: 0.3296 - mse: 0.3296\n",
            "Epoch 13/20\n",
            "38/38 [==============================] - 10s 260ms/step - loss: 0.3296 - mse: 0.3296\n",
            "Epoch 14/20\n",
            "38/38 [==============================] - 8s 221ms/step - loss: 0.3296 - mse: 0.3296\n",
            "Epoch 15/20\n",
            "38/38 [==============================] - 10s 257ms/step - loss: 0.3296 - mse: 0.3296\n",
            "Epoch 16/20\n",
            "38/38 [==============================] - 10s 257ms/step - loss: 0.3296 - mse: 0.3296\n",
            "Epoch 17/20\n",
            "38/38 [==============================] - 10s 251ms/step - loss: 0.3296 - mse: 0.3296\n",
            "Epoch 18/20\n",
            "38/38 [==============================] - 9s 221ms/step - loss: 0.3296 - mse: 0.3296\n",
            "Epoch 19/20\n",
            "38/38 [==============================] - 10s 259ms/step - loss: 0.3296 - mse: 0.3296\n",
            "Epoch 20/20\n",
            "38/38 [==============================] - 9s 247ms/step - loss: 0.3296 - mse: 0.3296\n"
          ]
        },
        {
          "output_type": "execute_result",
          "data": {
            "text/plain": [
              "<keras.callbacks.History at 0x7f14768b3d00>"
            ]
          },
          "metadata": {},
          "execution_count": 21
        }
      ]
    },
    {
      "cell_type": "code",
      "source": [],
      "metadata": {
        "id": "zfB8uvWgKCe6"
      },
      "execution_count": null,
      "outputs": []
    },
    {
      "cell_type": "code",
      "source": [
        "from keras.layers import Input"
      ],
      "metadata": {
        "id": "PxD2k3AHRzII"
      },
      "execution_count": null,
      "outputs": []
    },
    {
      "cell_type": "code",
      "source": [
        "time_steps=45"
      ],
      "metadata": {
        "id": "GbrPRpkYKChx"
      },
      "execution_count": null,
      "outputs": []
    },
    {
      "cell_type": "code",
      "source": [
        "mod = Sequential()\n",
        "mod.add(Input(shape=(1,time_steps)))\n",
        "mod.add(LSTM(48,return_sequences=True))\n",
        "mod.add(Dropout(0.4))\n",
        "mod.add(LSTM(48))\n",
        "mod.add(Dropout(0.2))\n",
        "mod.add(Dense(1))\n",
        "mod.add(Activation('relu'))\n",
        "mod.compile(loss='mean_squared_error',optimizer='adam',metrics=['mse'])\n",
        "mod.summary()"
      ],
      "metadata": {
        "colab": {
          "base_uri": "https://localhost:8080/"
        },
        "id": "Kryx5EynKClQ",
        "outputId": "1d1d8035-72d9-46ae-a5d4-49429d36dbf4"
      },
      "execution_count": null,
      "outputs": [
        {
          "output_type": "stream",
          "name": "stdout",
          "text": [
            "Model: \"sequential_14\"\n",
            "_________________________________________________________________\n",
            " Layer (type)                Output Shape              Param #   \n",
            "=================================================================\n",
            " lstm_32 (LSTM)              (None, 1, 48)             18048     \n",
            "                                                                 \n",
            " dropout_14 (Dropout)        (None, 1, 48)             0         \n",
            "                                                                 \n",
            " lstm_33 (LSTM)              (None, 48)                18624     \n",
            "                                                                 \n",
            " dropout_15 (Dropout)        (None, 48)                0         \n",
            "                                                                 \n",
            " dense_9 (Dense)             (None, 1)                 49        \n",
            "                                                                 \n",
            " activation_7 (Activation)   (None, 1)                 0         \n",
            "                                                                 \n",
            "=================================================================\n",
            "Total params: 36,721\n",
            "Trainable params: 36,721\n",
            "Non-trainable params: 0\n",
            "_________________________________________________________________\n"
          ]
        }
      ]
    },
    {
      "cell_type": "code",
      "source": [
        "mod.fit(x_train,y_train,epochs=20)"
      ],
      "metadata": {
        "colab": {
          "base_uri": "https://localhost:8080/",
          "height": 311
        },
        "id": "5g9V_AExKCpQ",
        "outputId": "8ec30a3e-0061-4c20-ad17-43f653475fbe"
      },
      "execution_count": null,
      "outputs": [
        {
          "output_type": "error",
          "ename": "KeyError",
          "evalue": "ignored",
          "traceback": [
            "\u001b[0;31m---------------------------------------------------------------------------\u001b[0m",
            "\u001b[0;31mKeyError\u001b[0m                                  Traceback (most recent call last)",
            "\u001b[0;32m<ipython-input-68-d65f5b38930c>\u001b[0m in \u001b[0;36m<cell line: 1>\u001b[0;34m()\u001b[0m\n\u001b[0;32m----> 1\u001b[0;31m \u001b[0mmod\u001b[0m\u001b[0;34m.\u001b[0m\u001b[0mfit\u001b[0m\u001b[0;34m(\u001b[0m\u001b[0mx_train\u001b[0m\u001b[0;34m,\u001b[0m\u001b[0my_train\u001b[0m\u001b[0;34m,\u001b[0m\u001b[0mepochs\u001b[0m\u001b[0;34m=\u001b[0m\u001b[0;36m20\u001b[0m\u001b[0;34m)\u001b[0m\u001b[0;34m\u001b[0m\u001b[0;34m\u001b[0m\u001b[0m\n\u001b[0m",
            "\u001b[0;32m/usr/local/lib/python3.10/dist-packages/keras/utils/traceback_utils.py\u001b[0m in \u001b[0;36merror_handler\u001b[0;34m(*args, **kwargs)\u001b[0m\n\u001b[1;32m     68\u001b[0m             \u001b[0;31m# To get the full stack trace, call:\u001b[0m\u001b[0;34m\u001b[0m\u001b[0;34m\u001b[0m\u001b[0m\n\u001b[1;32m     69\u001b[0m             \u001b[0;31m# `tf.debugging.disable_traceback_filtering()`\u001b[0m\u001b[0;34m\u001b[0m\u001b[0;34m\u001b[0m\u001b[0m\n\u001b[0;32m---> 70\u001b[0;31m             \u001b[0;32mraise\u001b[0m \u001b[0me\u001b[0m\u001b[0;34m.\u001b[0m\u001b[0mwith_traceback\u001b[0m\u001b[0;34m(\u001b[0m\u001b[0mfiltered_tb\u001b[0m\u001b[0;34m)\u001b[0m \u001b[0;32mfrom\u001b[0m \u001b[0;32mNone\u001b[0m\u001b[0;34m\u001b[0m\u001b[0;34m\u001b[0m\u001b[0m\n\u001b[0m\u001b[1;32m     71\u001b[0m         \u001b[0;32mfinally\u001b[0m\u001b[0;34m:\u001b[0m\u001b[0;34m\u001b[0m\u001b[0;34m\u001b[0m\u001b[0m\n\u001b[1;32m     72\u001b[0m             \u001b[0;32mdel\u001b[0m \u001b[0mfiltered_tb\u001b[0m\u001b[0;34m\u001b[0m\u001b[0;34m\u001b[0m\u001b[0m\n",
            "\u001b[0;32m/usr/local/lib/python3.10/dist-packages/keras/engine/data_adapter.py\u001b[0m in \u001b[0;36m__init__\u001b[0;34m(self, x, y, sample_weights, sample_weight_modes, batch_size, epochs, steps, shuffle, **kwargs)\u001b[0m\n\u001b[1;32m    258\u001b[0m         num_samples = set(\n\u001b[1;32m    259\u001b[0m             \u001b[0mint\u001b[0m\u001b[0;34m(\u001b[0m\u001b[0mi\u001b[0m\u001b[0;34m.\u001b[0m\u001b[0mshape\u001b[0m\u001b[0;34m[\u001b[0m\u001b[0;36m0\u001b[0m\u001b[0;34m]\u001b[0m\u001b[0;34m)\u001b[0m \u001b[0;32mfor\u001b[0m \u001b[0mi\u001b[0m \u001b[0;32min\u001b[0m \u001b[0mtf\u001b[0m\u001b[0;34m.\u001b[0m\u001b[0mnest\u001b[0m\u001b[0;34m.\u001b[0m\u001b[0mflatten\u001b[0m\u001b[0;34m(\u001b[0m\u001b[0minputs\u001b[0m\u001b[0;34m)\u001b[0m\u001b[0;34m\u001b[0m\u001b[0;34m\u001b[0m\u001b[0m\n\u001b[0;32m--> 260\u001b[0;31m         ).pop()\n\u001b[0m\u001b[1;32m    261\u001b[0m         \u001b[0m_check_data_cardinality\u001b[0m\u001b[0;34m(\u001b[0m\u001b[0minputs\u001b[0m\u001b[0;34m)\u001b[0m\u001b[0;34m\u001b[0m\u001b[0;34m\u001b[0m\u001b[0m\n\u001b[1;32m    262\u001b[0m \u001b[0;34m\u001b[0m\u001b[0m\n",
            "\u001b[0;31mKeyError\u001b[0m: 'pop from an empty set'"
          ]
        }
      ]
    },
    {
      "cell_type": "code",
      "source": [],
      "metadata": {
        "id": "L39mIWVyKCsc"
      },
      "execution_count": null,
      "outputs": []
    },
    {
      "cell_type": "code",
      "source": [],
      "metadata": {
        "id": "HZiQfz5IRRuI"
      },
      "execution_count": null,
      "outputs": []
    },
    {
      "cell_type": "code",
      "source": [],
      "metadata": {
        "id": "bhTPX_0kRR_z"
      },
      "execution_count": null,
      "outputs": []
    }
  ]
}