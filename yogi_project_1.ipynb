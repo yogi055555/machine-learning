{
  "nbformat": 4,
  "nbformat_minor": 0,
  "metadata": {
    "colab": {
      "provenance": [],
      "authorship_tag": "ABX9TyNDiMkd0HHgn+5p+5wwy8Zr",
      "include_colab_link": true
    },
    "kernelspec": {
      "name": "python3",
      "display_name": "Python 3"
    },
    "language_info": {
      "name": "python"
    }
  },
  "cells": [
    {
      "cell_type": "markdown",
      "metadata": {
        "id": "view-in-github",
        "colab_type": "text"
      },
      "source": [
        "<a href=\"https://colab.research.google.com/github/yogi055555/machine-learning/blob/main/yogi_project_1.ipynb\" target=\"_parent\"><img src=\"https://colab.research.google.com/assets/colab-badge.svg\" alt=\"Open In Colab\"/></a>"
      ]
    },
    {
      "cell_type": "code",
      "execution_count": 2,
      "metadata": {
        "colab": {
          "base_uri": "https://localhost:8080/"
        },
        "id": "hyjQ9wtzLeue",
        "outputId": "4579dad3-7bbf-4a7f-9836-ce23a750bfa1"
      },
      "outputs": [
        {
          "output_type": "stream",
          "name": "stdout",
          "text": [
            "Generated Password: jLk,WkASzWOc\n"
          ]
        }
      ],
      "source": [
        "import secrets\n",
        "import string\n",
        "\n",
        "def generate_random_password(length=12):\n",
        "    # Define the character set to use in the password\n",
        "    characters = string.ascii_letters + string.digits + string.punctuation\n",
        "\n",
        "    # Use secrets module to generate a cryptographically secure password\n",
        "    password = ''.join(secrets.choice(characters) for _ in range(length))\n",
        "\n",
        "    return password\n",
        "\n",
        "# Example usage to generate a random password of length 12\n",
        "password = generate_random_password()\n",
        "print(\"Generated Password:\", password)\n"
      ]
    }
  ]
}